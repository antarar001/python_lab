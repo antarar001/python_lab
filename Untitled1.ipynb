{
  "nbformat": 4,
  "nbformat_minor": 0,
  "metadata": {
    "colab": {
      "provenance": []
    },
    "kernelspec": {
      "name": "python3",
      "display_name": "Python 3"
    },
    "language_info": {
      "name": "python"
    }
  },
  "cells": [
    {
      "cell_type": "code",
      "execution_count": null,
      "metadata": {
        "colab": {
          "base_uri": "https://localhost:8080/"
        },
        "id": "GyqshmcfdyOi",
        "outputId": "f0d82c1a-6fbe-4f6b-d54d-4caaa2d72edf"
      },
      "outputs": [
        {
          "output_type": "stream",
          "name": "stdout",
          "text": [
            "37.5 degree Celsius is equal to 99.5 degree Fahrenheit\n"
          ]
        }
      ],
      "source": [
        "# Python Program to convert temperature in celsius to fahrenheit\n",
        "celsius = 37.5\n",
        "fahrenheit = (celsius * 1.8) + 32\n",
        "print('%0.1f degree Celsius is equal to %0.1f degree Fahrenheit' %(celsius,fahrenheit))\n"
      ]
    },
    {
      "cell_type": "code",
      "source": [
        "x = 5\n",
        "y = 10\n",
        "temp = x\n",
        "x = y\n",
        "y = temp\n",
        "\n",
        "print('The value of x after swapping: {}'.format(x))\n",
        "print('The value of y after swapping: {}'.format(y))\n"
      ],
      "metadata": {
        "colab": {
          "base_uri": "https://localhost:8080/"
        },
        "id": "oF4HJaR8eLVv",
        "outputId": "f9b97717-8781-4553-9120-d9acd93505cb"
      },
      "execution_count": null,
      "outputs": [
        {
          "output_type": "stream",
          "name": "stdout",
          "text": [
            "The value of x after swapping: 10\n",
            "The value of y after swapping: 5\n"
          ]
        }
      ]
    },
    {
      "cell_type": "code",
      "source": [
        "year = 2000\n",
        "if (year % 400 == 0) and (year % 100 == 0):\n",
        "    print(\"{0} is a leap year\".format(year))\n",
        "elif (year % 4 ==0) and (year % 100 != 0):\n",
        "    print(\"{0} is a leap year\".format(year))\n",
        "else:\n",
        "    print(\"{0} is not a leap year\".format(year))"
      ],
      "metadata": {
        "colab": {
          "base_uri": "https://localhost:8080/"
        },
        "id": "5fHUcX4Kek5F",
        "outputId": "cf709443-4648-4fb1-8c01-896fceaf8878"
      },
      "execution_count": null,
      "outputs": [
        {
          "output_type": "stream",
          "name": "stdout",
          "text": [
            "2000 is a leap year\n"
          ]
        }
      ]
    },
    {
      "cell_type": "code",
      "source": [
        "num = 1234\n",
        "reversed_num = 0\n",
        "\n",
        "while num != 0:\n",
        "    digit = num % 10\n",
        "    reversed_num = reversed_num * 10 + digit\n",
        "    num //= 10\n",
        "\n",
        "print(\"Reversed Number: \" + str(reversed_num))"
      ],
      "metadata": {
        "colab": {
          "base_uri": "https://localhost:8080/"
        },
        "id": "hjsbUkoLe-5v",
        "outputId": "d4522077-68d5-4bf5-c51e-6f9fb1b9192b"
      },
      "execution_count": null,
      "outputs": [
        {
          "output_type": "stream",
          "name": "stdout",
          "text": [
            "Reversed Number: 4321\n"
          ]
        }
      ]
    },
    {
      "cell_type": "code",
      "source": [
        "# Python Program to find the factors of a number\n",
        "\n",
        "# This function computes the factor of the argument passed\n",
        "def print_factors(x):\n",
        "   print(\"The factors of\",x,\"are:\")\n",
        "   for i in range(1, x + 1):\n",
        "       if x % i == 0:\n",
        "           print(i)\n",
        "\n",
        "num = 320\n",
        "\n",
        "print_factors(num)\n"
      ],
      "metadata": {
        "colab": {
          "base_uri": "https://localhost:8080/"
        },
        "collapsed": true,
        "id": "Hu8l--LjfI83",
        "outputId": "12f6209a-2a27-4e01-da08-9378717b2614"
      },
      "execution_count": null,
      "outputs": [
        {
          "output_type": "stream",
          "name": "stdout",
          "text": [
            "The factors of 320 are:\n",
            "1\n",
            "2\n",
            "4\n",
            "5\n",
            "8\n",
            "10\n",
            "16\n",
            "20\n",
            "32\n",
            "40\n",
            "64\n",
            "80\n",
            "160\n",
            "320\n"
          ]
        }
      ]
    },
    {
      "cell_type": "code",
      "source": [
        "def is_prime(num):\n",
        "    if num <= 1:\n",
        "        return False\n",
        "    for i in range(2, int(num**0.5) + 1):\n",
        "        if num % i == 0:\n",
        "            return False\n",
        "    return True\n",
        "\n",
        "def prime_series(n):\n",
        "    primes = []\n",
        "    for num in range(2, n + 1):\n",
        "        if is_prime(num):\n",
        "            primes.append(num)\n",
        "    return primes\n",
        "\n",
        "def main():\n",
        "    # Prompt the user to enter the upper limit\n",
        "    n = int(input(\"Enter the upper limit to generate prime numbers: \"))\n",
        "\n",
        "    # Generate the prime number series up to n\n",
        "    primes = prime_series(n)\n",
        "\n",
        "    # Print the prime numbers\n",
        "    print(f\"Prime numbers up to {n}:\")\n",
        "    for prime in primes:\n",
        "        print(prime, end=\" \")\n",
        "    print()\n",
        "\n",
        "if __name__ == \"__main__\":\n",
        "    main()\n"
      ],
      "metadata": {
        "colab": {
          "base_uri": "https://localhost:8080/"
        },
        "id": "7XaBL_eZgG9Y",
        "outputId": "30513343-6d6a-429e-8ad7-80217abbe53e"
      },
      "execution_count": null,
      "outputs": [
        {
          "output_type": "stream",
          "name": "stdout",
          "text": [
            "Enter the upper limit to generate prime numbers: 10\n",
            "Prime numbers up to 10:\n",
            "2 3 5 7 \n"
          ]
        }
      ]
    },
    {
      "cell_type": "code",
      "source": [
        "def find_numbers(start, end):\n",
        "    # List to store numbers that meet the criteria\n",
        "    result = []\n",
        "\n",
        "    # Loop through the range\n",
        "    for num in range(start, end + 1):\n",
        "        if num % 7 == 0 and num % 5 != 0:\n",
        "            result.append(num)\n",
        "\n",
        "    return result\n",
        "\n",
        "def main():\n",
        "    start = 1000\n",
        "    end = 2000\n",
        "\n",
        "    # Find numbers meeting the criteria\n",
        "    numbers = find_numbers(start, end)\n",
        "\n",
        "    # Display the numbers\n",
        "    print(f\"Numbers between {start} and {end} that are divisible by 7 but not a multiple of 5:\")\n",
        "    for number in numbers:\n",
        "        print(number, end=\" \")\n",
        "    print()\n",
        "\n",
        "if __name__ == \"__main__\":\n",
        "    main()\n"
      ],
      "metadata": {
        "colab": {
          "base_uri": "https://localhost:8080/"
        },
        "id": "CTFV6lqFgj4A",
        "outputId": "b9aeb3fa-e234-49ca-e113-e71c094a8c20"
      },
      "execution_count": null,
      "outputs": [
        {
          "output_type": "stream",
          "name": "stdout",
          "text": [
            "Numbers between 1000 and 2000 that are divisible by 7 but not a multiple of 5:\n",
            "1001 1008 1022 1029 1036 1043 1057 1064 1071 1078 1092 1099 1106 1113 1127 1134 1141 1148 1162 1169 1176 1183 1197 1204 1211 1218 1232 1239 1246 1253 1267 1274 1281 1288 1302 1309 1316 1323 1337 1344 1351 1358 1372 1379 1386 1393 1407 1414 1421 1428 1442 1449 1456 1463 1477 1484 1491 1498 1512 1519 1526 1533 1547 1554 1561 1568 1582 1589 1596 1603 1617 1624 1631 1638 1652 1659 1666 1673 1687 1694 1701 1708 1722 1729 1736 1743 1757 1764 1771 1778 1792 1799 1806 1813 1827 1834 1841 1848 1862 1869 1876 1883 1897 1904 1911 1918 1932 1939 1946 1953 1967 1974 1981 1988 \n"
          ]
        }
      ]
    },
    {
      "cell_type": "code",
      "source": [
        "n=int(input(\"Enter number:\"))\n",
        "temp=n\n",
        "rev=0\n",
        "while(n>0):\n",
        "    dig=n%10\n",
        "    rev=rev*10+dig\n",
        "    n=n//10\n",
        "if(temp==rev):\n",
        "    print(\"The number is a palindrome!\")\n",
        "else:\n",
        "    print(\"The number isn't a palindrome!\")"
      ],
      "metadata": {
        "colab": {
          "base_uri": "https://localhost:8080/"
        },
        "id": "E0ySRQp5g1_E",
        "outputId": "52318620-83e0-43ec-f586-a5e49f65594a"
      },
      "execution_count": null,
      "outputs": [
        {
          "output_type": "stream",
          "name": "stdout",
          "text": [
            "Enter number:121\n",
            "The number is a palindrome!\n"
          ]
        }
      ]
    },
    {
      "cell_type": "code",
      "source": [
        "n = int(input(\"Enter any number: \"))\n",
        "sum1 = 0\n",
        "for i in range(1, n):\n",
        "    if(n % i == 0):\n",
        "        sum1 = sum1 + i\n",
        "if (sum1 == n):\n",
        "    print(\"The number is a Perfect number!\")\n",
        "else:\n",
        "    print(\"The number is not a Perfect number!\")"
      ],
      "metadata": {
        "colab": {
          "base_uri": "https://localhost:8080/"
        },
        "id": "YGlt5KWEhCAx",
        "outputId": "ff027c32-d128-4005-ad28-cfe2b0e9fe42"
      },
      "execution_count": null,
      "outputs": [
        {
          "output_type": "stream",
          "name": "stdout",
          "text": [
            "Enter any number: 51\n",
            "The number is not a Perfect number!\n"
          ]
        }
      ]
    },
    {
      "cell_type": "code",
      "source": [
        "# Python program to check if the number is an Armstrong number or not\n",
        "\n",
        "# take input from the user\n",
        "num = int(input(\"Enter a number: \"))\n",
        "\n",
        "# initialize sum\n",
        "sum = 0\n",
        "\n",
        "# find the sum of the cube of each digit\n",
        "temp = num\n",
        "while temp > 0:\n",
        "   digit = temp % 10\n",
        "   sum += digit ** 3\n",
        "   temp //= 10\n",
        "\n",
        "# display the result\n",
        "if num == sum:\n",
        "   print(num,\"is an Armstrong number\")\n",
        "else:\n",
        "   print(num,\"is not an Armstrong number\")\n"
      ],
      "metadata": {
        "colab": {
          "base_uri": "https://localhost:8080/"
        },
        "id": "Z7Zxxgh1hUhn",
        "outputId": "1e0c132b-4ed5-48d6-b61b-3fe7f10352ed"
      },
      "execution_count": null,
      "outputs": [
        {
          "output_type": "stream",
          "name": "stdout",
          "text": [
            "Enter a number: 153\n",
            "153 is an Armstrong number\n"
          ]
        }
      ]
    },
    {
      "cell_type": "code",
      "source": [
        "def fibonacci_series(n):\n",
        "    if n <= 0:\n",
        "        return []\n",
        "    elif n == 1:\n",
        "        return [0]\n",
        "    elif n == 2:\n",
        "        return [0, 1]\n",
        "\n",
        "    series = [0, 1]\n",
        "    while True:\n",
        "        next_term = series[-1] + series[-2]\n",
        "        if next_term > n:\n",
        "            break\n",
        "        series.append(next_term)\n",
        "    return series\n",
        "\n",
        "def main():\n",
        "    # Prompt the user to enter the upper limit\n",
        "    n = int(input(\"Enter the upper limit for the Fibonacci series: \"))\n",
        "\n",
        "    # Generate the Fibonacci series up to n\n",
        "    series = fibonacci_series(n)\n",
        "\n",
        "    # Print the Fibonacci series\n",
        "    print(f\"Fibonacci series up to {n}:\")\n",
        "    for num in series:\n",
        "        print(num, end=\" \")\n",
        "    print()\n",
        "\n",
        "if __name__ == \"__main__\":\n",
        "    main()\n"
      ],
      "metadata": {
        "colab": {
          "base_uri": "https://localhost:8080/"
        },
        "id": "WiYENsUPhhjw",
        "outputId": "6707f697-ff02-482e-d580-2d476de533eb"
      },
      "execution_count": null,
      "outputs": [
        {
          "output_type": "stream",
          "name": "stdout",
          "text": [
            "Enter the upper limit for the Fibonacci series: 5\n",
            "Fibonacci series up to 5:\n",
            "0 1 1 2 3 5 \n"
          ]
        }
      ]
    },
    {
      "cell_type": "code",
      "source": [
        "def print_name():\n",
        "    name = \"Antara Roy\"\n",
        "    print(name)\n",
        "\n",
        "if __name__ == \"__main__\":\n",
        "    print_name()\n"
      ],
      "metadata": {
        "colab": {
          "base_uri": "https://localhost:8080/"
        },
        "id": "FoENQnL3mZKo",
        "outputId": "9fbdf6ae-b886-411b-a8f1-0c3d142f7dd3"
      },
      "execution_count": 20,
      "outputs": [
        {
          "output_type": "stream",
          "name": "stdout",
          "text": [
            "Antara Roy\n"
          ]
        }
      ]
    },
    {
      "cell_type": "code",
      "source": [
        "# This program adds two numbers\n",
        "\n",
        "num1 = 1.5\n",
        "num2 = 6.3\n",
        "\n",
        "# Add two numbers\n",
        "sum = num1 + num2\n",
        "\n",
        "# Display the sum\n",
        "print('The sum of {0} and {1} is {2}'.format(num1, num2, sum))\n"
      ],
      "metadata": {
        "colab": {
          "base_uri": "https://localhost:8080/"
        },
        "id": "DHtgQlvandos",
        "outputId": "5c7dc24d-d8fd-4c5f-eb4c-9e648ea4245f"
      },
      "execution_count": 21,
      "outputs": [
        {
          "output_type": "stream",
          "name": "stdout",
          "text": [
            "The sum of 1.5 and 6.3 is 7.8\n"
          ]
        }
      ]
    },
    {
      "cell_type": "code",
      "source": [
        "temperature = float(input(\"Please enter temperature in fahrenheit:\"))\n",
        "celsius = (temperature - 32) * 5 / 9\n",
        "print(\"Temperature in celsius: \" , celsius)"
      ],
      "metadata": {
        "colab": {
          "base_uri": "https://localhost:8080/"
        },
        "id": "Oj0pbMmvngpy",
        "outputId": "738bd3bc-0d93-46cd-e888-b175e00ab46c"
      },
      "execution_count": 22,
      "outputs": [
        {
          "output_type": "stream",
          "name": "stdout",
          "text": [
            "Please enter temperature in fahrenheit:44\n",
            "Temperature in celsius:  6.666666666666667\n"
          ]
        }
      ]
    },
    {
      "cell_type": "code",
      "source": [
        "def calculate_area(length, width):\n",
        "    \"\"\"Calculate the area of the rectangle.\"\"\"\n",
        "    return length * width\n",
        "\n",
        "def calculate_perimeter(length, width):\n",
        "    \"\"\"Calculate the perimeter of the rectangle.\"\"\"\n",
        "    return 2 * (length + width)\n",
        "\n",
        "def main():\n",
        "    # Prompt the user to enter the dimensions of the rectangle\n",
        "    length = float(input(\"Enter the length of the rectangle: \"))\n",
        "    width = float(input(\"Enter the width of the rectangle: \"))\n",
        "\n",
        "    # Calculate the area and perimeter\n",
        "    area = calculate_area(length, width)\n",
        "    perimeter = calculate_perimeter(length, width)\n",
        "\n",
        "    # Print the results\n",
        "    print(f\"Area of the rectangle: {area}\")\n",
        "    print(f\"Perimeter of the rectangle: {perimeter}\")\n",
        "\n",
        "if __name__ == \"__main__\":\n",
        "    main()\n"
      ],
      "metadata": {
        "colab": {
          "base_uri": "https://localhost:8080/"
        },
        "id": "qJabXRqGn_eu",
        "outputId": "11b1976f-768d-4137-a518-07adea6b281f"
      },
      "execution_count": 23,
      "outputs": [
        {
          "output_type": "stream",
          "name": "stdout",
          "text": [
            "Enter the length of the rectangle: 4\n",
            "Enter the width of the rectangle: 6\n",
            "Area of the rectangle: 24.0\n",
            "Perimeter of the rectangle: 20.0\n"
          ]
        }
      ]
    },
    {
      "cell_type": "code",
      "source": [
        "import math\n",
        "\n",
        "def calculate_area(radius):\n",
        "    \"\"\"Calculate the area of the circle.\"\"\"\n",
        "    return math.pi * (radius ** 2)\n",
        "\n",
        "def calculate_perimeter(radius):\n",
        "    \"\"\"Calculate the perimeter (circumference) of the circle.\"\"\"\n",
        "    return 2 * math.pi * radius\n",
        "\n",
        "def main():\n",
        "    # Prompt the user to enter the radius of the circle\n",
        "    radius = float(input(\"Enter the radius of the circle: \"))\n",
        "\n",
        "    # Calculate the area and perimeter\n",
        "    area = calculate_area(radius)\n",
        "    perimeter = calculate_perimeter(radius)\n",
        "\n",
        "    # Print the results\n",
        "    print(f\"Area of the circle: {area:.2f}\")\n",
        "    print(f\"Perimeter (circumference) of the circle: {perimeter:.2f}\")\n",
        "\n",
        "if __name__ == \"__main__\":\n",
        "    main()\n"
      ],
      "metadata": {
        "colab": {
          "base_uri": "https://localhost:8080/"
        },
        "id": "_wa4t4FCoHlZ",
        "outputId": "6a519b58-f9fe-4cc2-fd8a-d58e2644096b"
      },
      "execution_count": 24,
      "outputs": [
        {
          "output_type": "stream",
          "name": "stdout",
          "text": [
            "Enter the radius of the circle: 2\n",
            "Area of the circle: 12.57\n",
            "Perimeter (circumference) of the circle: 12.57\n"
          ]
        }
      ]
    },
    {
      "cell_type": "code",
      "source": [
        "num = int(input(\"Enter a number: \"))\n",
        "if (num % 2) == 0:\n",
        "   print(\"{0} is Even\".format(num))\n",
        "else:\n",
        "   print(\"{0} is Odd\".format(num))"
      ],
      "metadata": {
        "colab": {
          "base_uri": "https://localhost:8080/"
        },
        "id": "HtIqwkQhobhG",
        "outputId": "c1daf878-7f06-4eea-e178-145cc5942c96"
      },
      "execution_count": 25,
      "outputs": [
        {
          "output_type": "stream",
          "name": "stdout",
          "text": [
            "Enter a number: 22\n",
            "22 is Even\n"
          ]
        }
      ]
    },
    {
      "cell_type": "code",
      "source": [
        "# Python program to find the largest number among the three input numbers\n",
        "\n",
        "# change the values of num1, num2 and num3\n",
        "# for a different result\n",
        "num1 = 10\n",
        "num2 = 14\n",
        "num3 = 12\n",
        "\n",
        "# uncomment following lines to take three numbers from user\n",
        "#num1 = float(input(\"Enter first number: \"))\n",
        "#num2 = float(input(\"Enter second number: \"))\n",
        "#num3 = float(input(\"Enter third number: \"))\n",
        "\n",
        "if (num1 >= num2) and (num1 >= num3):\n",
        "   largest = num1\n",
        "elif (num2 >= num1) and (num2 >= num3):\n",
        "   largest = num2\n",
        "else:\n",
        "   largest = num3\n",
        "\n",
        "print(\"The largest number is\", largest)\n"
      ],
      "metadata": {
        "colab": {
          "base_uri": "https://localhost:8080/"
        },
        "id": "xnhQOjrepELm",
        "outputId": "696ea281-4c7d-4a4c-9843-369caa76c12e"
      },
      "execution_count": 27,
      "outputs": [
        {
          "output_type": "stream",
          "name": "stdout",
          "text": [
            "The largest number is 14\n"
          ]
        }
      ]
    },
    {
      "cell_type": "code",
      "source": [
        "miles = float(input(\"Please enter miles:\"))\n",
        "kilometers = miles * 1.6\n",
        "print(kilometers, \" Kilometers\")"
      ],
      "metadata": {
        "colab": {
          "base_uri": "https://localhost:8080/"
        },
        "id": "AkPsNxL2pRsj",
        "outputId": "f48483cd-612f-4e4e-8985-35e8086bc8a4"
      },
      "execution_count": 28,
      "outputs": [
        {
          "output_type": "stream",
          "name": "stdout",
          "text": [
            "Please enter miles:4\n",
            "6.4  Kilometers\n"
          ]
        }
      ]
    },
    {
      "cell_type": "code",
      "source": [
        "def is_divisible_by_5(number):\n",
        "    \"\"\"Check if a number is divisible by 5.\"\"\"\n",
        "    return number % 5 == 0\n",
        "\n",
        "def main():\n",
        "    # Prompt the user to enter a number\n",
        "    number = int(input(\"Enter a number: \"))\n",
        "\n",
        "    # Check if the number is divisible by 5\n",
        "    if is_divisible_by_5(number):\n",
        "        print(f\"{number} is divisible by 5.\")\n",
        "    else:\n",
        "        print(f\"{number} is not divisible by 5.\")\n",
        "\n",
        "if __name__ == \"__main__\":\n",
        "    main()\n"
      ],
      "metadata": {
        "colab": {
          "base_uri": "https://localhost:8080/"
        },
        "id": "IvtkS1oSpe1d",
        "outputId": "7fb1a765-8303-4baf-ea5a-ae301f307e3e"
      },
      "execution_count": 29,
      "outputs": [
        {
          "output_type": "stream",
          "name": "stdout",
          "text": [
            "Enter a number: 45\n",
            "45 is divisible by 5.\n"
          ]
        }
      ]
    }
  ]
}