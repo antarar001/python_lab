{
  "cells": [
    {
      "cell_type": "code",
      "execution_count": null,
      "metadata": {
        "id": "pHplTwXPkh_J"
      },
      "outputs": [],
      "source": []
    },
    {
      "cell_type": "code",
      "execution_count": null,
      "metadata": {
        "colab": {
          "base_uri": "https://localhost:8080/"
        },
        "id": "jyaGZ3HwwwwW",
        "outputId": "4c05e2dd-4530-4723-cd8e-101e69ee3cf3"
      },
      "outputs": [
        {
          "name": "stdout",
          "output_type": "stream",
          "text": [
            "Winter\n",
            "Spring\n",
            "Summer\n",
            "Autumn\n",
            "Invalid month\n"
          ]
        }
      ],
      "source": [
        "def check_season(month):\n",
        "    # Define the seasons based on months\n",
        "    if month in ['December', 'January', 'February']:\n",
        "        return 'Winter'\n",
        "    elif month in ['March', 'April', 'May']:\n",
        "        return 'Spring'\n",
        "    elif month in ['June', 'July', 'August']:\n",
        "        return 'Summer'\n",
        "    elif month in ['September', 'October', 'November']:\n",
        "        return 'Autumn'\n",
        "    else:\n",
        "        return 'Invalid month'\n",
        "\n",
        "# Test the function with different months\n",
        "print(check_season('January'))  # Output: Winter\n",
        "print(check_season('April'))    # Output: Spring\n",
        "print(check_season('July'))     # Output: Summer\n",
        "print(check_season('October'))  # Output: Autumn\n",
        "print(check_season('Invalid'))  # Output: Invalid month\n"
      ]
    },
    {
      "cell_type": "code",
      "execution_count": null,
      "metadata": {
        "colab": {
          "base_uri": "https://localhost:8080/"
        },
        "id": "BkOJfrddxCUf",
        "outputId": "a4fc2c23-11ce-4b4c-d7ec-dec21d287518"
      },
      "outputs": [
        {
          "name": "stdout",
          "output_type": "stream",
          "text": [
            "-1.0\n",
            "-2.6666666666666665\n",
            "inf\n"
          ]
        }
      ],
      "source": [
        "def calculate_slope(x1, y1, x2, y2):\n",
        "    # Check if the line is vertical to avoid division by zero\n",
        "    if x1 == x2:\n",
        "        return float('inf')  # Slope is infinite for a vertical line\n",
        "    else:\n",
        "        # Calculate the slope using the formula (y2 - y1) / (x2 - x1)\n",
        "        slope = (y2 - y1) / (x1 - x2)\n",
        "        return slope\n",
        "\n",
        "# Test the function with different points\n",
        "print(calculate_slope(1, 2, 3, 4))  # Output: 1.0\n",
        "print(calculate_slope(2, 3, 5, 11))  # Output: 2.6666666666666665\n",
        "print(calculate_slope(4, 5, 4, 10))  # Output: inf (vertical line)\n"
      ]
    },
    {
      "cell_type": "code",
      "execution_count": null,
      "metadata": {
        "colab": {
          "base_uri": "https://localhost:8080/"
        },
        "id": "KYXbkyIpxFIJ",
        "outputId": "84a85c1c-ead0-4d32-c66e-acc951adcfcb"
      },
      "outputs": [
        {
          "name": "stdout",
          "output_type": "stream",
          "text": [
            "Enter coefficient a: 3\n",
            "Enter coefficient b: 4\n",
            "Enter coefficient c: 5\n",
            "The solutions of the quadratic equation are: (-0.6666666666666666+1.1055415967851332j) and (-0.6666666666666666-1.1055415967851332j)\n"
          ]
        }
      ],
      "source": [
        "import cmath\n",
        "\n",
        "def solve_quadratic_eqn(a, b, c):\n",
        "    # Calculate the discriminant\n",
        "    discriminant = b**2 - 4*a*c\n",
        "\n",
        "    # Calculate the two solutions using the quadratic formula\n",
        "    root1 = (-b + cmath.sqrt(discriminant)) / (2*a)\n",
        "    root2 = (-b - cmath.sqrt(discriminant)) / (2*a)\n",
        "\n",
        "    return root1, root2\n",
        "\n",
        "# Test the function with different coefficients\n",
        "a = float(input(\"Enter coefficient a: \"))\n",
        "b = float(input(\"Enter coefficient b: \"))\n",
        "c = float(input(\"Enter coefficient c: \"))\n",
        "\n",
        "roots = solve_quadratic_eqn(a, b, c)\n",
        "print(f\"The solutions of the quadratic equation are: {roots[0]} and {roots[1]}\")\n"
      ]
    },
    {
      "cell_type": "code",
      "execution_count": null,
      "metadata": {
        "colab": {
          "base_uri": "https://localhost:8080/"
        },
        "id": "i0Gwz51ExXYk",
        "outputId": "df37cd92-d3df-4456-db14-292cf6dcdd9c"
      },
      "outputs": [
        {
          "name": "stdout",
          "output_type": "stream",
          "text": [
            "The elements of the list are:\n",
            "1\n",
            "2\n",
            "3\n",
            "4\n",
            "5\n"
          ]
        }
      ],
      "source": [
        "def print_list(input_list):\n",
        "    for element in input_list:\n",
        "        print(element)\n",
        "\n",
        "# Example usage\n",
        "example_list = [1, 2, 3, 4, 5]\n",
        "print(\"The elements of the list are:\")\n",
        "print_list(example_list)\n"
      ]
    },
    {
      "cell_type": "code",
      "execution_count": null,
      "metadata": {
        "colab": {
          "base_uri": "https://localhost:8080/"
        },
        "id": "iyFiav4fxitt",
        "outputId": "9bfad88b-d4df-4bbf-941a-64c258ca2c50"
      },
      "outputs": [
        {
          "name": "stdout",
          "output_type": "stream",
          "text": [
            "Original list: [1, 2, 3, 4, 5]\n",
            "Reversed list: [5, 4, 3, 2, 1]\n"
          ]
        }
      ],
      "source": [
        "def reverse_list(input_list):\n",
        "    reversed_list = []\n",
        "    for i in range(len(input_list) - 1, -1, -1):\n",
        "        reversed_list.append(input_list[i])\n",
        "    return reversed_list\n",
        "\n",
        "# Example usage\n",
        "example_list = [1, 2, 3, 4, 5]\n",
        "reversed_example_list = reverse_list(example_list)\n",
        "print(\"Original list:\", example_list)\n",
        "print(\"Reversed list:\", reversed_example_list)\n"
      ]
    },
    {
      "cell_type": "code",
      "execution_count": null,
      "metadata": {
        "colab": {
          "base_uri": "https://localhost:8080/"
        },
        "id": "ADd5GvFMxrqc",
        "outputId": "3e467253-5168-44a6-efb9-aa279a5d931a"
      },
      "outputs": [
        {
          "name": "stdout",
          "output_type": "stream",
          "text": [
            "Enter a positive integer n: 4\n",
            "The sum of the series up to 4 terms is: 0.5833333333333333\n"
          ]
        }
      ],
      "source": [
        "def series_sum(n):\n",
        "    sum = 0.0\n",
        "    for i in range(1, n + 1):\n",
        "        if i % 2 == 0:\n",
        "            sum -= 1 / i\n",
        "        else:\n",
        "            sum += 1 / i\n",
        "    return sum\n",
        "\n",
        "# Input: positive integer n\n",
        "n = int(input(\"Enter a positive integer n: \"))\n",
        "\n",
        "# Calculate the sum of the series up to n terms\n",
        "if n > 0:\n",
        "    result = series_sum(n)\n",
        "    print(f\"The sum of the series up to {n} terms is: {result}\")\n",
        "else:\n",
        "    print(\"Please enter a positive integer.\")\n"
      ]
    },
    {
      "cell_type": "code",
      "execution_count": null,
      "metadata": {
        "colab": {
          "base_uri": "https://localhost:8080/"
        },
        "id": "xs2f_OXpyivK",
        "outputId": "3849efa9-45ed-45a8-d227-0e5e600398eb"
      },
      "outputs": [
        {
          "name": "stdout",
          "output_type": "stream",
          "text": [
            "Enter the value of x (in radians): 3\n",
            "Enter the number of terms n: 4\n",
            "The computed value of sin(3.0) using 4 terms is: 0.09107142857142847\n",
            "The value from math.sin(3.0) is: 0.1411200080598672\n"
          ]
        }
      ],
      "source": [
        "import math\n",
        "\n",
        "def factorial(n):\n",
        "    if n == 0 or n == 1:\n",
        "        return 1\n",
        "    else:\n",
        "        return n * factorial(n - 1)\n",
        "\n",
        "def sin_x_series(x, n):\n",
        "    sin_x = 0\n",
        "    for i in range(n):\n",
        "        term = (-1)**i * (x**(2*i + 1)) / factorial(2*i + 1)\n",
        "        sin_x += term\n",
        "    return sin_x\n",
        "\n",
        "# Input: value of x and number of terms n\n",
        "x = float(input(\"Enter the value of x (in radians): \"))\n",
        "n = int(input(\"Enter the number of terms n: \"))\n",
        "\n",
        "# Compute sin(x) using the series expansion\n",
        "result = sin_x_series(x, n)\n",
        "\n",
        "# Output the result\n",
        "print(f\"The computed value of sin({x}) using {n} terms is: {result}\")\n",
        "print(f\"The value from math.sin({x}) is: {math.sin(x)}\")\n"
      ]
    },
    {
      "cell_type": "code",
      "execution_count": null,
      "metadata": {
        "colab": {
          "base_uri": "https://localhost:8080/"
        },
        "id": "-a3J5n4YywaL",
        "outputId": "f4460af0-2197-4545-eee5-944d53d47c46"
      },
      "outputs": [
        {
          "name": "stdout",
          "output_type": "stream",
          "text": [
            "Enter the value of x (in radians): 4\n",
            "Enter the number of terms n: 5\n",
            "The computed value of cos(4.0) using 5 terms is: -0.39682539682539764\n",
            "The value from math.cos(4.0) is: -0.6536436208636119\n"
          ]
        }
      ],
      "source": [
        "import math\n",
        "\n",
        "def factorial(n):\n",
        "    if n == 0 or n == 1:\n",
        "        return 1\n",
        "    else:\n",
        "        return n * factorial(n - 1)\n",
        "\n",
        "def cos_x_series(x, n):\n",
        "    cos_x = 0\n",
        "    for i in range(n):\n",
        "        term = (-1)**i * (x**(2*i)) / factorial(2*i)\n",
        "        cos_x += term\n",
        "    return cos_x\n",
        "\n",
        "# Input: value of x and number of terms n\n",
        "x = float(input(\"Enter the value of x (in radians): \"))\n",
        "n = int(input(\"Enter the number of terms n: \"))\n",
        "\n",
        "# Compute cos(x) using the series expansion\n",
        "result = cos_x_series(x, n)\n",
        "\n",
        "# Output the result\n",
        "print(f\"The computed value of cos({x}) using {n} terms is: {result}\")\n",
        "print(f\"The value from math.cos({x}) is: {math.cos(x)}\")\n"
      ]
    },
    {
      "cell_type": "code",
      "execution_count": null,
      "metadata": {
        "colab": {
          "base_uri": "https://localhost:8080/"
        },
        "id": "3Nl1lWdWy8RK",
        "outputId": "078f94ba-a71d-460f-e661-6b39e6192108"
      },
      "outputs": [
        {
          "name": "stdout",
          "output_type": "stream",
          "text": [
            "Pattern for N=2:\n",
            "/\\\n",
            "  /\\\n",
            " / \\\n",
            "/___\\\n",
            "\n",
            "Pattern for N=3:\n",
            "/\\\n",
            "  /\\\n",
            " / \\\n",
            "/___\\\n",
            "    /\\\n",
            "   / \\\n",
            "  /   \\\n",
            " /     \\\n",
            "/_______\\\n",
            "\n",
            "Pattern for N=4:\n",
            "/\\\n",
            "  /\\\n",
            " / \\\n",
            "/___\\\n",
            "    /\\\n",
            "   / \\\n",
            "  /   \\\n",
            " /     \\\n",
            "/_______\\\n",
            "      /\\\n",
            "     / \\\n",
            "    /   \\\n",
            "   /     \\\n",
            "  /       \\\n",
            " /         \\\n",
            "/___________\\\n"
          ]
        }
      ],
      "source": [
        "def print_pattern(N):\n",
        "    for i in range(1, N+1):\n",
        "        height = 2*i - 1\n",
        "        for j in range(1, height + 1):\n",
        "            # Calculate the number of leading spaces\n",
        "            spaces = height - j\n",
        "            # Calculate the number of '/' and '\\' characters\n",
        "            slashes = 2*j - 1\n",
        "            if j == height:\n",
        "                # For the last line of each triangle, print the underscores\n",
        "                print(' ' * spaces + '/' + '_' * (slashes - 2) + '\\\\')\n",
        "            else:\n",
        "                # For other lines, print the slashes\n",
        "                print(' ' * spaces + '/' + ' ' * (slashes - 2) + '\\\\')\n",
        "\n",
        "# Test the function with different values of N\n",
        "print(\"Pattern for N=2:\")\n",
        "print_pattern(2)\n",
        "print(\"\\nPattern for N=3:\")\n",
        "print_pattern(3)\n",
        "print(\"\\nPattern for N=4:\")\n",
        "print_pattern(4)\n"
      ]
    },
    {
      "cell_type": "code",
      "execution_count": null,
      "metadata": {
        "colab": {
          "background_save": true,
          "base_uri": "https://localhost:8080/"
        },
        "id": "YQ3Mmr9sz_c3",
        "outputId": "286609a1-15e9-4d43-f9a1-299f6a3c0fe2"
      },
      "outputs": [
        {
          "name": "stdout",
          "output_type": "stream",
          "text": [
            "Display for N=2:\n",
            " _  \n",
            " _| \n",
            "|_  \n",
            " _  \n",
            " _| \n",
            " _| \n",
            "\n",
            "Display for N=3:\n",
            " _  \n",
            "|_| \n",
            "|_| \n",
            "    \n",
            "|_| \n",
            "  | \n",
            " _  \n",
            "  | \n",
            "  | \n",
            "\n",
            "Display for N=4:\n",
            "     _  \n",
            "  | | | \n",
            "  | |_| \n",
            "        \n",
            "  |   | \n",
            "  |   | \n"
          ]
        }
      ],
      "source": [
        "def print_segment_display(N):\n",
        "    segments = {\n",
        "        '0': [\" _ \",\n",
        "              \"| |\",\n",
        "              \"|_|\"],\n",
        "        '1': [\"   \",\n",
        "              \"  |\",\n",
        "              \"  |\"],\n",
        "        '2': [\" _ \",\n",
        "              \" _|\",\n",
        "              \"|_ \"],\n",
        "        '3': [\" _ \",\n",
        "              \" _|\",\n",
        "              \" _|\"],\n",
        "        '4': [\"   \",\n",
        "              \"|_|\",\n",
        "              \"  |\"],\n",
        "        '5': [\" _ \",\n",
        "              \"|_ \",\n",
        "              \" _|\"],\n",
        "        '6': [\" _ \",\n",
        "              \"|_ \",\n",
        "              \"|_|\"],\n",
        "        '7': [\" _ \",\n",
        "              \"  |\",\n",
        "              \"  |\"],\n",
        "        '8': [\" _ \",\n",
        "              \"|_|\",\n",
        "              \"|_|\"],\n",
        "        '9': [\" _ \",\n",
        "              \"|_|\",\n",
        "              \" _|\"]\n",
        "    }\n",
        "\n",
        "    # Repeat the pattern for N lines\n",
        "    for _ in range(N):\n",
        "        number = input(\"Enter a number: \")\n",
        "        display = [\"\", \"\", \"\"]\n",
        "\n",
        "        for digit in number:\n",
        "            segment = segments[digit]\n",
        "            display[0] += segment[0] + \" \"\n",
        "            display[1] += segment[1] + \" \"\n",
        "            display[2] += segment[2] + \" \"\n",
        "\n",
        "        for line in display:\n",
        "            print(line)\n",
        "\n",
        "# Test the function with different values of N\n",
        "print(\"Display for N=2:\")\n",
        "print_segment_display(2)\n",
        "print(\"\\nDisplay for N=3:\")\n",
        "print_segment_display(3)\n",
        "print(\"\\nDisplay for N=4:\")\n",
        "print_segment_display(4)\n"
      ]
    },
    {
      "cell_type": "code",
      "execution_count": 1,
      "metadata": {
        "id": "KsTIKyCv0fbW",
        "colab": {
          "base_uri": "https://localhost:8080/"
        },
        "outputId": "dfb84a00-84fd-49ea-e9a6-5421c26f6a35"
      },
      "outputs": [
        {
          "output_type": "stream",
          "name": "stdout",
          "text": [
            "Pattern for N=2:\n",
            "1\n",
            "\n",
            "1 2\n",
            "4 3\n",
            "\n",
            "Pattern for N=3:\n",
            "1\n",
            "\n",
            "1 2\n",
            "4 3\n",
            "\n",
            "1 2 3\n",
            "8 9 4\n",
            "7 6 5\n",
            "\n",
            "Pattern for N=4:\n",
            "1\n",
            "\n",
            "1 2\n",
            "4 3\n",
            "\n",
            "1 2 3\n",
            "8 9 4\n",
            "7 6 5\n",
            "\n",
            "1 2 3 4\n",
            "12 13 14 5\n",
            "11 16 15 6\n",
            "10 9 8 7\n",
            "\n"
          ]
        }
      ],
      "source": [
        "def print_pattern(N):\n",
        "    for n in range(1, N + 1):\n",
        "        # Create an n x n matrix initialized with zeros\n",
        "        matrix = [[0] * n for _ in range(n)]\n",
        "\n",
        "        # Initialize starting values\n",
        "        num = 1\n",
        "        start_row, end_row = 0, n - 1\n",
        "        start_col, end_col = 0, n - 1\n",
        "\n",
        "        while start_row <= end_row and start_col <= end_col:\n",
        "            # Fill the top row\n",
        "            for col in range(start_col, end_col + 1):\n",
        "                matrix[start_row][col] = num\n",
        "                num += 1\n",
        "            start_row += 1\n",
        "\n",
        "            # Fill the right column\n",
        "            for row in range(start_row, end_row + 1):\n",
        "                matrix[row][end_col] = num\n",
        "                num += 1\n",
        "            end_col -= 1\n",
        "\n",
        "            # Fill the bottom row\n",
        "            for col in range(end_col, start_col - 1, -1):\n",
        "                matrix[end_row][col] = num\n",
        "                num += 1\n",
        "            end_row -= 1\n",
        "\n",
        "            # Fill the left column\n",
        "            for row in range(end_row, start_row - 1, -1):\n",
        "                matrix[row][start_col] = num\n",
        "                num += 1\n",
        "            start_col += 1\n",
        "\n",
        "        # Print the matrix\n",
        "        for row in matrix:\n",
        "            print(\" \".join(map(str, row)))\n",
        "        print()  # Print a new line after each pattern\n",
        "\n",
        "# Test the function with different values of N\n",
        "print(\"Pattern for N=2:\")\n",
        "print_pattern(2)\n",
        "print(\"Pattern for N=3:\")\n",
        "print_pattern(3)\n",
        "print(\"Pattern for N=4:\")\n",
        "print_pattern(4)\n"
      ]
    },
    {
      "cell_type": "code",
      "source": [
        "def display_table():\n",
        "    print(\"{:<3} {:<3} {:<3} {:<3} {:<3}\".format(\"n\", \"1\", \"n\", \"n^2\", \"n^3\"))\n",
        "    for n in range(1, 6):\n",
        "        print(\"{:<3} {:<3} {:<3} {:<3} {:<3}\".format(n, 1, n, n**2, n**3))\n",
        "\n",
        "display_table()\n"
      ],
      "metadata": {
        "colab": {
          "base_uri": "https://localhost:8080/"
        },
        "id": "PxwopYjluieo",
        "outputId": "9baa2e24-d728-45df-b110-f08b9b19d841"
      },
      "execution_count": 2,
      "outputs": [
        {
          "output_type": "stream",
          "name": "stdout",
          "text": [
            "n   1   n   n^2 n^3\n",
            "1   1   1   1   1  \n",
            "2   1   2   4   8  \n",
            "3   1   3   9   27 \n",
            "4   1   4   16  64 \n",
            "5   1   5   25  125\n"
          ]
        }
      ]
    },
    {
      "cell_type": "code",
      "source": [
        "def calculate_sum_and_average(arr):\n",
        "    total = sum(arr)\n",
        "    average = total / len(arr) if len(arr) > 0 else 0\n",
        "    return total, average\n",
        "\n",
        "# Example usage\n",
        "integer_array = [1, 2, 3, 4, 5]\n",
        "total, average = calculate_sum_and_average(integer_array)\n",
        "\n",
        "print(\"Array:\", integer_array)\n",
        "print(\"Sum:\", total)\n",
        "print(\"Average:\", average)\n"
      ],
      "metadata": {
        "colab": {
          "base_uri": "https://localhost:8080/"
        },
        "id": "vLCKrhnTvPqa",
        "outputId": "afbafc3e-429b-49f9-f8f6-2dadd01e043c"
      },
      "execution_count": 3,
      "outputs": [
        {
          "output_type": "stream",
          "name": "stdout",
          "text": [
            "Array: [1, 2, 3, 4, 5]\n",
            "Sum: 15\n",
            "Average: 3.0\n"
          ]
        }
      ]
    },
    {
      "cell_type": "code",
      "source": [
        "class Stack:\n",
        "    def __init__(self):\n",
        "        self.stack = []\n",
        "\n",
        "    def is_empty(self):\n",
        "        return len(self.stack) == 0\n",
        "\n",
        "    def push(self, item):\n",
        "        self.stack.append(item)\n",
        "        print(f\"Pushed {item} to stack\")\n",
        "\n",
        "    def pop(self):\n",
        "        if self.is_empty():\n",
        "            print(\"Stack is empty! Cannot pop.\")\n",
        "            return None\n",
        "        return self.stack.pop()\n",
        "\n",
        "    def peek(self):\n",
        "        if self.is_empty():\n",
        "            print(\"Stack is empty!\")\n",
        "            return None\n",
        "        return self.stack[-1]\n",
        "\n",
        "    def size(self):\n",
        "        return len(self.stack)\n",
        "\n",
        "    def display(self):\n",
        "        print(\"Stack contents:\", self.stack)\n",
        "\n",
        "# Example usage\n",
        "if __name__ == \"__main__\":\n",
        "    stack = Stack()\n",
        "\n",
        "    stack.push(1)\n",
        "    stack.push(2)\n",
        "    stack.push(3)\n",
        "    stack.display()\n",
        "\n",
        "    print(\"Popped item:\", stack.pop())\n",
        "    stack.display()\n",
        "\n",
        "    print(\"Top item:\", stack.peek())\n",
        "    print(\"Stack size:\", stack.size())\n"
      ],
      "metadata": {
        "colab": {
          "base_uri": "https://localhost:8080/"
        },
        "id": "GFhOgMr-viw9",
        "outputId": "34e2be7a-a575-48c4-af41-40ede7d164a0"
      },
      "execution_count": 4,
      "outputs": [
        {
          "output_type": "stream",
          "name": "stdout",
          "text": [
            "Pushed 1 to stack\n",
            "Pushed 2 to stack\n",
            "Pushed 3 to stack\n",
            "Stack contents: [1, 2, 3]\n",
            "Popped item: 3\n",
            "Stack contents: [1, 2]\n",
            "Top item: 2\n",
            "Stack size: 2\n"
          ]
        }
      ]
    },
    {
      "cell_type": "code",
      "source": [
        "class Queue:\n",
        "    def __init__(self):\n",
        "        self.queue = []\n",
        "\n",
        "    def is_empty(self):\n",
        "        return len(self.queue) == 0\n",
        "\n",
        "    def enqueue(self, item):\n",
        "        self.queue.append(item)\n",
        "        print(f\"Enqueued {item} to queue\")\n",
        "\n",
        "    def dequeue(self):\n",
        "        if self.is_empty():\n",
        "            print(\"Queue is empty! Cannot dequeue.\")\n",
        "            return None\n",
        "        return self.queue.pop(0)\n",
        "\n",
        "    def front(self):\n",
        "        if self.is_empty():\n",
        "            print(\"Queue is empty!\")\n",
        "            return None\n",
        "        return self.queue[0]\n",
        "\n",
        "    def size(self):\n",
        "        return len(self.queue)\n",
        "\n",
        "    def display(self):\n",
        "        print(\"Queue contents:\", self.queue)\n",
        "\n",
        "# Example usage\n",
        "if __name__ == \"__main__\":\n",
        "    queue = Queue()\n",
        "\n",
        "    queue.enqueue(1)\n",
        "    queue.enqueue(2)\n",
        "    queue.enqueue(3)\n",
        "    queue.display()\n",
        "\n",
        "    print(\"Dequeued item:\", queue.dequeue())\n",
        "    queue.display()\n",
        "\n",
        "    print(\"Front item:\", queue.front())\n",
        "    print(\"Queue size:\", queue.size())\n"
      ],
      "metadata": {
        "colab": {
          "base_uri": "https://localhost:8080/"
        },
        "id": "ccCzI1qpvuEg",
        "outputId": "b8bee070-7798-4bc4-d154-afb83e8f41ee"
      },
      "execution_count": 5,
      "outputs": [
        {
          "output_type": "stream",
          "name": "stdout",
          "text": [
            "Enqueued 1 to queue\n",
            "Enqueued 2 to queue\n",
            "Enqueued 3 to queue\n",
            "Queue contents: [1, 2, 3]\n",
            "Dequeued item: 1\n",
            "Queue contents: [2, 3]\n",
            "Front item: 2\n",
            "Queue size: 2\n"
          ]
        }
      ]
    },
    {
      "cell_type": "code",
      "source": [
        "def sum_two_matrices(matrix1, matrix2):\n",
        "    if not matrix1 or not matrix2:\n",
        "        raise ValueError(\"Both matrices must be non-empty\")\n",
        "\n",
        "    rows1, cols1 = len(matrix1), len(matrix1[0])\n",
        "    rows2, cols2 = len(matrix2), len(matrix2[0])\n",
        "\n",
        "    if rows1 != rows2 or cols1 != cols2:\n",
        "        raise ValueError(\"Both matrices must have the same dimensions\")\n",
        "\n",
        "    result = [[matrix1[i][j] + matrix2[i][j] for j in range(cols1)] for i in range(rows1)]\n",
        "    return result\n",
        "\n",
        "# Example usage\n",
        "matrix1 = [\n",
        "    [1, 2, 3],\n",
        "    [4, 5, 6],\n",
        "    [7, 8, 9]\n",
        "]\n",
        "\n",
        "matrix2 = [\n",
        "    [9, 8, 7],\n",
        "    [6, 5, 4],\n",
        "    [3, 2, 1]\n",
        "]\n",
        "\n",
        "result_matrix = sum_two_matrices(matrix1, matrix2)\n",
        "\n",
        "print(\"Matrix 1:\")\n",
        "for row in matrix1:\n",
        "    print(row)\n",
        "\n",
        "print(\"\\nMatrix 2:\")\n",
        "for row in matrix2:\n",
        "    print(row)\n",
        "\n",
        "print(\"\\nSum of Matrix 1 and Matrix 2:\")\n",
        "for row in result_matrix:\n",
        "    print(row)\n"
      ],
      "metadata": {
        "colab": {
          "base_uri": "https://localhost:8080/"
        },
        "id": "zYywRZWSv33E",
        "outputId": "15a3a70c-8395-475e-bae9-2a3184064c34"
      },
      "execution_count": 7,
      "outputs": [
        {
          "output_type": "stream",
          "name": "stdout",
          "text": [
            "Matrix 1:\n",
            "[1, 2, 3]\n",
            "[4, 5, 6]\n",
            "[7, 8, 9]\n",
            "\n",
            "Matrix 2:\n",
            "[9, 8, 7]\n",
            "[6, 5, 4]\n",
            "[3, 2, 1]\n",
            "\n",
            "Sum of Matrix 1 and Matrix 2:\n",
            "[10, 10, 10]\n",
            "[10, 10, 10]\n",
            "[10, 10, 10]\n"
          ]
        }
      ]
    },
    {
      "cell_type": "code",
      "source": [
        "def find_range(arr):\n",
        "    if not arr:\n",
        "        raise ValueError(\"Array must be non-empty\")\n",
        "\n",
        "    min_value = min(arr)\n",
        "    max_value = max(arr)\n",
        "    range_value = max_value - min_value\n",
        "\n",
        "    return range_value\n",
        "\n",
        "# Example usage\n",
        "array = [10, 2, 5, 8, 3, 7]\n",
        "range_value = find_range(array)\n",
        "\n",
        "print(\"Array:\", array)\n",
        "print(\"Range:\", range_value)\n"
      ],
      "metadata": {
        "colab": {
          "base_uri": "https://localhost:8080/"
        },
        "id": "OQy1NXDgwPss",
        "outputId": "3808eeb5-3f79-46df-da8d-a8ff5935f272"
      },
      "execution_count": 8,
      "outputs": [
        {
          "output_type": "stream",
          "name": "stdout",
          "text": [
            "Array: [10, 2, 5, 8, 3, 7]\n",
            "Range: 8\n"
          ]
        }
      ]
    },
    {
      "cell_type": "code",
      "source": [
        "def search_element(arr, target):\n",
        "    for index, element in enumerate(arr):\n",
        "        if element == target:\n",
        "            return index\n",
        "    return -1\n",
        "\n",
        "# Example usage\n",
        "array = [10, 2, 5, 8, 3, 7]\n",
        "target = 8\n",
        "index = search_element(array, target)\n",
        "\n",
        "if index != -1:\n",
        "    print(f\"Element {target} found at index {index}\")\n",
        "else:\n",
        "    print(f\"Element {target} not found in the array\")\n"
      ],
      "metadata": {
        "colab": {
          "base_uri": "https://localhost:8080/"
        },
        "id": "cmS3XfFXwS7j",
        "outputId": "94a8d108-1a96-4a36-b15b-e7add88ab65b"
      },
      "execution_count": 9,
      "outputs": [
        {
          "output_type": "stream",
          "name": "stdout",
          "text": [
            "Element 8 found at index 3\n"
          ]
        }
      ]
    },
    {
      "cell_type": "code",
      "source": [
        "def sum_of_even_numbers(arr):\n",
        "    even_sum = sum(number for number in arr if number % 2 == 0)\n",
        "    return even_sum\n",
        "\n",
        "# Example usage\n",
        "array = [10, 2, 5, 8, 3, 7]\n",
        "even_sum = sum_of_even_numbers(array)\n",
        "\n",
        "print(\"Array:\", array)\n",
        "print(\"Sum of even numbers:\", even_sum)\n"
      ],
      "metadata": {
        "colab": {
          "base_uri": "https://localhost:8080/"
        },
        "id": "qiPlqz50wfXz",
        "outputId": "57052f9b-a7e9-476e-a44e-64a792382d80"
      },
      "execution_count": 10,
      "outputs": [
        {
          "output_type": "stream",
          "name": "stdout",
          "text": [
            "Array: [10, 2, 5, 8, 3, 7]\n",
            "Sum of even numbers: 20\n"
          ]
        }
      ]
    },
    {
      "cell_type": "code",
      "source": [
        "def sum_of_diagonal_elements(matrix):\n",
        "    if not matrix:\n",
        "        raise ValueError(\"Matrix must be non-empty\")\n",
        "\n",
        "    rows = len(matrix)\n",
        "    cols = len(matrix[0])\n",
        "\n",
        "    if rows != cols:\n",
        "        raise ValueError(\"Matrix must be square\")\n",
        "\n",
        "    diagonal_sum = sum(matrix[i][i] for i in range(rows))\n",
        "    return diagonal_sum\n",
        "\n",
        "# Example usage\n",
        "matrix = [\n",
        "    [1, 2, 3],\n",
        "    [4, 5, 6],\n",
        "    [7, 8, 9]\n",
        "]\n",
        "\n",
        "diagonal_sum = sum_of_diagonal_elements(matrix)\n",
        "\n",
        "print(\"Matrix:\")\n",
        "for row in matrix:\n",
        "    print(row)\n",
        "\n",
        "print(\"\\nSum of diagonal elements:\", diagonal_sum)\n"
      ],
      "metadata": {
        "colab": {
          "base_uri": "https://localhost:8080/"
        },
        "id": "mvX3k5-Gwn5C",
        "outputId": "63761d4b-774b-418a-d5d7-c8603f8bf573"
      },
      "execution_count": 11,
      "outputs": [
        {
          "output_type": "stream",
          "name": "stdout",
          "text": [
            "Matrix:\n",
            "[1, 2, 3]\n",
            "[4, 5, 6]\n",
            "[7, 8, 9]\n",
            "\n",
            "Sum of diagonal elements: 15\n"
          ]
        }
      ]
    },
    {
      "cell_type": "code",
      "source": [
        "def reverse_array(arr):\n",
        "    left = 0\n",
        "    right = len(arr) - 1\n",
        "\n",
        "    while left < right:\n",
        "        # Swap the elements at left and right indices\n",
        "        arr[left], arr[right] = arr[right], arr[left]\n",
        "        left += 1\n",
        "        right -= 1\n",
        "\n",
        "# Example usage\n",
        "array = [1, 2, 3, 4, 5]\n",
        "print(\"Original array:\", array)\n",
        "\n",
        "reverse_array(array)\n",
        "print(\"Reversed array:\", array)\n"
      ],
      "metadata": {
        "colab": {
          "base_uri": "https://localhost:8080/"
        },
        "id": "O13DzjizwwHu",
        "outputId": "b8dd062b-41d4-4671-989f-a92f4d136c1d"
      },
      "execution_count": 12,
      "outputs": [
        {
          "output_type": "stream",
          "name": "stdout",
          "text": [
            "Original array: [1, 2, 3, 4, 5]\n",
            "Reversed array: [5, 4, 3, 2, 1]\n"
          ]
        }
      ]
    },
    {
      "cell_type": "code",
      "source": [
        "def find_smallest_number(arr):\n",
        "    if not arr:\n",
        "        raise ValueError(\"Array must be non-empty\")\n",
        "    return min(arr)\n",
        "\n",
        "def main():\n",
        "    n = int(input(\"Enter the number of elements: \"))\n",
        "    if n <= 0:\n",
        "        print(\"The number of elements should be positive.\")\n",
        "        return\n",
        "\n",
        "    array = []\n",
        "    for i in range(n):\n",
        "        element = int(input(f\"Enter element {i + 1}: \"))\n",
        "        array.append(element)\n",
        "\n",
        "    smallest_number = find_smallest_number(array)\n",
        "    print(\"Array:\", array)\n",
        "    print(\"Smallest number:\", smallest_number)\n",
        "\n",
        "if __name__ == \"__main__\":\n",
        "    main()\n"
      ],
      "metadata": {
        "colab": {
          "base_uri": "https://localhost:8080/"
        },
        "id": "r0A00l8Jw_uT",
        "outputId": "c576f81d-6369-4328-c6ec-0fbbd5d33215"
      },
      "execution_count": 13,
      "outputs": [
        {
          "output_type": "stream",
          "name": "stdout",
          "text": [
            "Enter the number of elements: 5\n",
            "Enter element 1: 2\n",
            "Enter element 2: 4\n",
            "Enter element 3: 7\n",
            "Enter element 4: 9\n",
            "Enter element 5: 8\n",
            "Array: [2, 4, 7, 9, 8]\n",
            "Smallest number: 2\n"
          ]
        }
      ]
    }
  ],
  "metadata": {
    "colab": {
      "provenance": []
    },
    "kernelspec": {
      "display_name": "Python 3",
      "name": "python3"
    },
    "language_info": {
      "name": "python"
    }
  },
  "nbformat": 4,
  "nbformat_minor": 0
}