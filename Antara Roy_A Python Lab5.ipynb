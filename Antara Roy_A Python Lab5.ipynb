{
  "nbformat": 4,
  "nbformat_minor": 0,
  "metadata": {
    "colab": {
      "provenance": []
    },
    "kernelspec": {
      "name": "python3",
      "display_name": "Python 3"
    },
    "language_info": {
      "name": "python"
    }
  },
  "cells": [
    {
      "cell_type": "code",
      "execution_count": 1,
      "metadata": {
        "colab": {
          "base_uri": "https://localhost:8080/",
          "height": 0
        },
        "id": "Wx4PIAakyT3l",
        "outputId": "bea6c5d4-f0ba-465e-de01-9f8b4f1a0c23"
      },
      "outputs": [
        {
          "output_type": "stream",
          "name": "stdout",
          "text": [
            "Sorted Ages: [19, 19, 20, 22, 24, 24, 24, 25, 25, 26]\n",
            "Min Age: 19\n",
            "Max Age: 26\n",
            "Updated Ages with Min and Max Added: [19, 19, 20, 22, 24, 24, 24, 25, 25, 26, 19, 26]\n",
            "Median Age: 24.0\n",
            "Average Age: 22.75\n",
            "Range of Ages: 7\n",
            "Absolute Difference between Min and Average: 3.75\n",
            "Absolute Difference between Max and Average: 3.25\n"
          ]
        }
      ],
      "source": [
        "# List of student ages\n",
        "ages = [19, 22, 19, 24, 20, 25, 26, 24, 25, 24]\n",
        "\n",
        "# I. Sort the list and find the min and max age\n",
        "ages_sorted = sorted(ages)\n",
        "min_age = min(ages_sorted)\n",
        "max_age = max(ages_sorted)\n",
        "\n",
        "print(f\"Sorted Ages: {ages_sorted}\")\n",
        "print(f\"Min Age: {min_age}\")\n",
        "print(f\"Max Age: {max_age}\")\n",
        "\n",
        "# II. Add the min age and the max age again to the list\n",
        "ages_sorted.append(min_age)\n",
        "ages_sorted.append(max_age)\n",
        "\n",
        "print(f\"Updated Ages with Min and Max Added: {ages_sorted}\")\n",
        "\n",
        "# III. Find the median age\n",
        "n = len(ages_sorted)\n",
        "if n % 2 == 1:\n",
        "    median_age = ages_sorted[n // 2]\n",
        "else:\n",
        "    median_age = (ages_sorted[n // 2 - 1] + ages_sorted[n // 2]) / 2\n",
        "\n",
        "print(f\"Median Age: {median_age}\")\n",
        "\n",
        "# IV. Find the average age\n",
        "average_age = sum(ages_sorted) / len(ages_sorted)\n",
        "\n",
        "print(f\"Average Age: {average_age}\")\n",
        "\n",
        "# V. Find the range of the ages\n",
        "range_age = max_age - min_age\n",
        "\n",
        "print(f\"Range of Ages: {range_age}\")\n",
        "\n",
        "# VI. Compare the value of (min - average) and (max - average), use abs() method\n",
        "min_minus_avg = abs(min_age - average_age)\n",
        "max_minus_avg = abs(max_age - average_age)\n",
        "\n",
        "print(f\"Absolute Difference between Min and Average: {min_minus_avg}\")\n",
        "print(f\"Absolute Difference between Max and Average: {max_minus_avg}\")\n"
      ]
    },
    {
      "cell_type": "code",
      "source": [
        "# List of strings\n",
        "technologies = ['Python', 'Numpy', 'Pandas', 'Django', 'Flask']\n",
        "\n",
        "# Iterate through the list and print each item\n",
        "for item in technologies:\n",
        "    print(item)\n"
      ],
      "metadata": {
        "colab": {
          "base_uri": "https://localhost:8080/",
          "height": 0
        },
        "id": "3lFxslqd-42k",
        "outputId": "029e3091-2842-4d7e-8664-b8a1a3151ad2"
      },
      "execution_count": 2,
      "outputs": [
        {
          "output_type": "stream",
          "name": "stdout",
          "text": [
            "Python\n",
            "Numpy\n",
            "Pandas\n",
            "Django\n",
            "Flask\n"
          ]
        }
      ]
    },
    {
      "cell_type": "code",
      "source": [
        "# Define the tuples\n",
        "fruits = ('apple', 'banana', 'cherry')\n",
        "vegetables = ('carrot', 'broccoli', 'spinach')\n",
        "animal_products = ('milk', 'cheese', 'egg')\n",
        "\n",
        "# I. Join the three tuples and assign to a variable called food_stuff_tp\n",
        "food_stuff_tp = fruits + vegetables + animal_products\n",
        "print(f\"Food Stuff Tuple: {food_stuff_tp}\")\n",
        "\n",
        "# II. Convert the food_stuff_tp tuple to a food_stuff_lt list\n",
        "food_stuff_lt = list(food_stuff_tp)\n",
        "print(f\"Food Stuff List: {food_stuff_lt}\")\n",
        "\n",
        "# III. Slice out the middle item or items from the food_stuff_tp tuple or food_stuff_lt list\n",
        "n = len(food_stuff_lt)\n",
        "if n % 2 == 1:\n",
        "    middle_item = food_stuff_lt[n // 2]\n",
        "    print(f\"Middle Item: {middle_item}\")\n",
        "else:\n",
        "    middle_items = food_stuff_lt[n // 2 - 1:n // 2 + 1]\n",
        "    print(f\"Middle Items: {middle_items}\")\n",
        "\n",
        "# IV. Slice out the first three items and the last three items from the food_stuff_lt list\n",
        "first_three_items = food_stuff_lt[:3]\n",
        "last_three_items = food_stuff_lt[-3:]\n",
        "print(f\"First Three Items: {first_three_items}\")\n",
        "print(f\"Last Three Items: {last_three_items}\")\n",
        "\n",
        "# V. Delete the food_stuff_tp tuple completely\n",
        "del food_stuff_tp\n",
        "try:\n",
        "    print(f\"Food Stuff Tuple after deletion: {food_stuff_tp}\")\n",
        "except NameError:\n",
        "    print(\"Food Stuff Tuple has been deleted.\")\n"
      ],
      "metadata": {
        "colab": {
          "base_uri": "https://localhost:8080/",
          "height": 0
        },
        "id": "_ZbBBLVL_tbT",
        "outputId": "8d7b1671-73e4-4247-c288-4220e6ee726a"
      },
      "execution_count": 3,
      "outputs": [
        {
          "output_type": "stream",
          "name": "stdout",
          "text": [
            "Food Stuff Tuple: ('apple', 'banana', 'cherry', 'carrot', 'broccoli', 'spinach', 'milk', 'cheese', 'egg')\n",
            "Food Stuff List: ['apple', 'banana', 'cherry', 'carrot', 'broccoli', 'spinach', 'milk', 'cheese', 'egg']\n",
            "Middle Item: broccoli\n",
            "First Three Items: ['apple', 'banana', 'cherry']\n",
            "Last Three Items: ['milk', 'cheese', 'egg']\n",
            "Food Stuff Tuple has been deleted.\n"
          ]
        }
      ]
    },
    {
      "cell_type": "code",
      "source": [
        "# Define the sets\n",
        "A = {1, 2, 3, 4, 5}\n",
        "B = {4, 5, 6, 7, 8}\n",
        "\n",
        "# I. Join A and B\n",
        "union_A_B = A | B\n",
        "print(f\"Union of A and B: {union_A_B}\")\n",
        "\n",
        "# II. Find A intersection B\n",
        "intersection_A_B = A & B\n",
        "print(f\"Intersection of A and B: {intersection_A_B}\")\n",
        "\n",
        "# III. Is A subset of B\n",
        "is_A_subset_of_B = A.issubset(B)\n",
        "print(f\"Is A a subset of B: {is_A_subset_of_B}\")\n",
        "\n",
        "# IV. Are A and B disjoint sets\n",
        "are_disjoint = A.isdisjoint(B)\n",
        "print(f\"Are A and B disjoint sets: {are_disjoint}\")\n",
        "\n",
        "# V. Join A with B and B with A\n",
        "union_A_B_reversed = B | A\n",
        "print(f\"Union of B and A: {union_A_B_reversed}\")\n",
        "\n",
        "# VI. Symmetric difference between A and B\n",
        "symmetric_difference_A_B = A ^ B\n",
        "print(f\"Symmetric Difference between A and B: {symmetric_difference_A_B}\")\n",
        "\n",
        "# VII. Delete the sets completely\n",
        "del A\n",
        "del B\n",
        "\n",
        "try:\n",
        "    print(A)\n",
        "except NameError:\n",
        "    print(\"Set A has been deleted.\")\n",
        "\n",
        "try:\n",
        "    print(B)\n",
        "except NameError:\n",
        "    print(\"Set B has been deleted.\")\n"
      ],
      "metadata": {
        "colab": {
          "base_uri": "https://localhost:8080/",
          "height": 0
        },
        "id": "T6Dhi-3UT8L0",
        "outputId": "87691b8f-b650-48f9-8ab5-95c7d06ce598"
      },
      "execution_count": 1,
      "outputs": [
        {
          "output_type": "stream",
          "name": "stdout",
          "text": [
            "Union of A and B: {1, 2, 3, 4, 5, 6, 7, 8}\n",
            "Intersection of A and B: {4, 5}\n",
            "Is A a subset of B: False\n",
            "Are A and B disjoint sets: False\n",
            "Union of B and A: {1, 2, 3, 4, 5, 6, 7, 8}\n",
            "Symmetric Difference between A and B: {1, 2, 3, 6, 7, 8}\n",
            "Set A has been deleted.\n",
            "Set B has been deleted.\n"
          ]
        }
      ]
    },
    {
      "cell_type": "code",
      "source": [
        "# Create an empty dictionary called dog\n",
        "dog = {}\n",
        "\n",
        "# Add name, color, breed, legs, and age to the dog dictionary\n",
        "dog['name'] = 'Buddy'\n",
        "dog['color'] = 'Brown'\n",
        "dog['breed'] = 'Labrador'\n",
        "dog['legs'] = 4\n",
        "dog['age'] = 3\n",
        "\n",
        "# Print the dog dictionary\n",
        "print(dog)\n"
      ],
      "metadata": {
        "colab": {
          "base_uri": "https://localhost:8080/",
          "height": 0
        },
        "id": "SutMfNYeYy5Z",
        "outputId": "44bae385-c316-44fd-8d97-6d4f62354ace"
      },
      "execution_count": 2,
      "outputs": [
        {
          "output_type": "stream",
          "name": "stdout",
          "text": [
            "{'name': 'Buddy', 'color': 'Brown', 'breed': 'Labrador', 'legs': 4, 'age': 3}\n"
          ]
        }
      ]
    },
    {
      "cell_type": "code",
      "source": [
        "# Create a student dictionary and add various keys\n",
        "student = {\n",
        "    'first_name': 'John',\n",
        "    'last_name': 'Doe',\n",
        "    'gender': 'Male',\n",
        "    'age': 21,\n",
        "    'marital_status': 'Single',\n",
        "    'skills': ['Python', 'Data Analysis'],\n",
        "    'country': 'USA',\n",
        "    'city': 'New York',\n",
        "    'address': '123 Main St'\n",
        "}\n",
        "\n",
        "# I. Get the length of the student dictionary\n",
        "length_of_student_dict = len(student)\n",
        "print(f\"Length of the student dictionary: {length_of_student_dict}\")\n",
        "\n",
        "# II. Get the value of skills and check the data type, it should be a list\n",
        "skills = student['skills']\n",
        "print(f\"Skills: {skills}\")\n",
        "print(f\"Data type of skills: {type(skills)}\")  # It should output <class 'list'>\n",
        "\n",
        "# III. Modify the skills values by adding one or two skills\n",
        "student['skills'].append('Machine Learning')\n",
        "student['skills'].append('Web Development')\n",
        "print(f\"Updated Skills: {student['skills']}\")\n",
        "\n",
        "# IV. Get the dictionary keys as a list\n",
        "keys_list = list(student.keys())\n",
        "print(f\"Dictionary Keys: {keys_list}\")\n",
        "\n",
        "# V. Get the dictionary values as a list\n",
        "values_list = list(student.values())\n",
        "print(f\"Dictionary Values: {values_list}\")\n",
        "\n",
        "# VI. Change the dictionary to a list of tuples using items() method\n",
        "student_items = list(student.items())\n",
        "print(f\"Dictionary as a list of tuples: {student_items}\")\n",
        "\n",
        "# VII. Delete one of the items in the dictionary\n",
        "del student['marital_status']\n",
        "print(f\"Dictionary after deleting 'marital_status': {student}\")\n",
        "\n",
        "# VIII. Delete the entire student dictionary\n",
        "del student\n",
        "try:\n",
        "    print(student)\n",
        "except NameError:\n",
        "    print(\"The student dictionary has been deleted.\")\n"
      ],
      "metadata": {
        "colab": {
          "base_uri": "https://localhost:8080/",
          "height": 0
        },
        "id": "JIIJU3apZAAg",
        "outputId": "31470f1b-13e0-4619-af2e-c6d84b23861a"
      },
      "execution_count": 3,
      "outputs": [
        {
          "output_type": "stream",
          "name": "stdout",
          "text": [
            "Length of the student dictionary: 9\n",
            "Skills: ['Python', 'Data Analysis']\n",
            "Data type of skills: <class 'list'>\n",
            "Updated Skills: ['Python', 'Data Analysis', 'Machine Learning', 'Web Development']\n",
            "Dictionary Keys: ['first_name', 'last_name', 'gender', 'age', 'marital_status', 'skills', 'country', 'city', 'address']\n",
            "Dictionary Values: ['John', 'Doe', 'Male', 21, 'Single', ['Python', 'Data Analysis', 'Machine Learning', 'Web Development'], 'USA', 'New York', '123 Main St']\n",
            "Dictionary as a list of tuples: [('first_name', 'John'), ('last_name', 'Doe'), ('gender', 'Male'), ('age', 21), ('marital_status', 'Single'), ('skills', ['Python', 'Data Analysis', 'Machine Learning', 'Web Development']), ('country', 'USA'), ('city', 'New York'), ('address', '123 Main St')]\n",
            "Dictionary after deleting 'marital_status': {'first_name': 'John', 'last_name': 'Doe', 'gender': 'Male', 'age': 21, 'skills': ['Python', 'Data Analysis', 'Machine Learning', 'Web Development'], 'country': 'USA', 'city': 'New York', 'address': '123 Main St'}\n",
            "The student dictionary has been deleted.\n"
          ]
        }
      ]
    },
    {
      "cell_type": "code",
      "source": [
        "# Define the person dictionary\n",
        "person = {\n",
        "    'first_name': 'Asabeneh',\n",
        "    'last_name': 'Yetayeh',\n",
        "    'age': 250,\n",
        "    'country': 'Finland',\n",
        "    'is_married': True,\n",
        "    'skills': ['JavaScript', 'React', 'Node', 'MongoDB', 'Python'],\n",
        "    'address': {\n",
        "        'street': 'Space street',\n",
        "        'zipcode': '02210'\n",
        "    }\n",
        "}\n",
        "\n",
        "# I. Check if the person dictionary has the 'skills' key, if so print out the middle skill in the skills list.\n",
        "if 'skills' in person:\n",
        "    skills = person['skills']\n",
        "    middle_index = len(skills) // 2\n",
        "    middle_skill = skills[middle_index]\n",
        "    print(f\"Middle skill: {middle_skill}\")\n",
        "\n",
        "# II. Check if the person dictionary has the 'skills' key, if so check if the person has 'Python' skill and print out the result.\n",
        "if 'skills' in person:\n",
        "    has_python_skill = 'Python' in person['skills']\n",
        "    print(f\"Has Python skill: {has_python_skill}\")\n",
        "\n",
        "# III. Determine the person's job title based on their skills\n",
        "if 'skills' in person:\n",
        "    skills = set(person['skills'])\n",
        "\n",
        "    if skills == {'JavaScript', 'React'}:\n",
        "        print('He is a front end developer.')\n",
        "    elif skills >= {'Node', 'Python', 'MongoDB'}:\n",
        "        print('He is a backend developer.')\n",
        "    elif skills >= {'React', 'Node', 'MongoDB'}:\n",
        "        print('He is a fullstack developer.')\n",
        "    else:\n",
        "        print('Unknown title.')\n",
        "\n",
        "# IV. If the person is married and lives in Finland, print their information in the specified format.\n",
        "if person['is_married'] and person['country'] == 'Finland':\n",
        "    first_name = person['first_name']\n",
        "    last_name = person['last_name']\n",
        "    country = person['country']\n",
        "    print(f\"{first_name} {last_name} lives in {country}. He is married.\")\n"
      ],
      "metadata": {
        "colab": {
          "base_uri": "https://localhost:8080/",
          "height": 0
        },
        "id": "DQmmGwwQdW-C",
        "outputId": "837931b4-3503-4213-8bde-baa1ace9624d"
      },
      "execution_count": 4,
      "outputs": [
        {
          "output_type": "stream",
          "name": "stdout",
          "text": [
            "Middle skill: Node\n",
            "Has Python skill: True\n",
            "He is a backend developer.\n",
            "Asabeneh Yetayeh lives in Finland. He is married.\n"
          ]
        }
      ]
    },
    {
      "cell_type": "code",
      "source": [
        "# Define the dictionary mapping month numbers to seasons\n",
        "month_to_season = {\n",
        "    1: 'Winter',\n",
        "    2: 'Winter',\n",
        "    3: 'Spring',\n",
        "    4: 'Spring',\n",
        "    5: 'Spring',\n",
        "    6: 'Summer',\n",
        "    7: 'Summer',\n",
        "    8: 'Summer',\n",
        "    9: 'Autumn',\n",
        "    10: 'Autumn',\n",
        "    11: 'Autumn',\n",
        "    12: 'Winter'\n",
        "}\n",
        "\n",
        "# Input: Get the month number from the user\n",
        "month = int(input(\"Enter the month number (1-12): \"))\n",
        "\n",
        "# Get the season based on the month number\n",
        "season = month_to_season.get(month, \"Invalid month number\")\n",
        "\n",
        "# Output: Print the season name\n",
        "print(f\"The season for month {month} is: {season}\")\n"
      ],
      "metadata": {
        "colab": {
          "base_uri": "https://localhost:8080/",
          "height": 0
        },
        "id": "npyFkd5pdaO0",
        "outputId": "442fe131-ae9d-42b4-f1b1-7e9d162d3716"
      },
      "execution_count": 6,
      "outputs": [
        {
          "output_type": "stream",
          "name": "stdout",
          "text": [
            "Enter the month number (1-12): 1\n",
            "The season for month 1 is: Winter\n"
          ]
        }
      ]
    },
    {
      "cell_type": "code",
      "source": [],
      "metadata": {
        "id": "3j5vOgNLeyhl"
      },
      "execution_count": null,
      "outputs": []
    }
  ]
}