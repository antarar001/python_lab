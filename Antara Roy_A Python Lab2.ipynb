{
  "nbformat": 4,
  "nbformat_minor": 0,
  "metadata": {
    "colab": {
      "provenance": []
    },
    "kernelspec": {
      "name": "python3",
      "display_name": "Python 3"
    },
    "language_info": {
      "name": "python"
    }
  },
  "cells": [
    {
      "cell_type": "code",
      "execution_count": 1,
      "metadata": {
        "id": "Vjpuq8FhVGEf",
        "colab": {
          "base_uri": "https://localhost:8080/"
        },
        "outputId": "51f819d3-55a8-4b23-b202-596cba8a1c52"
      },
      "outputs": [
        {
          "output_type": "stream",
          "name": "stdout",
          "text": [
            "Enter the first number: 5\n",
            "Enter the second number: 6\n",
            "Enter the third number: 4\n",
            "The sum of the square roots of 5.0, 6.0, and 4.0 is 6.69\n"
          ]
        }
      ],
      "source": [
        "import math\n",
        "\n",
        "def sum_of_square_roots(num1, num2, num3):\n",
        "    # Calculate the square roots\n",
        "    sqrt1 = math.sqrt(num1)\n",
        "    sqrt2 = math.sqrt(num2)\n",
        "    sqrt3 = math.sqrt(num3)\n",
        "\n",
        "    # Calculate the sum of the square roots\n",
        "    sum_sqrt = sqrt1 + sqrt2 + sqrt3\n",
        "\n",
        "    return sum_sqrt\n",
        "\n",
        "# Input: three numbers\n",
        "number1 = float(input(\"Enter the first number: \"))\n",
        "number2 = float(input(\"Enter the second number: \"))\n",
        "number3 = float(input(\"Enter the third number: \"))\n",
        "\n",
        "# Calculate the sum of the square roots\n",
        "result = sum_of_square_roots(number1, number2, number3)\n",
        "\n",
        "# Output the result\n",
        "print(f\"The sum of the square roots of {number1}, {number2}, and {number3} is {result:.2f}\")\n"
      ]
    },
    {
      "cell_type": "code",
      "source": [
        "import math\n",
        "\n",
        "def solve_quadratic(a, b, c):\n",
        "    # Calculate the discriminant\n",
        "    discriminant = b**2 - 4*a*c\n",
        "\n",
        "    if discriminant > 0:\n",
        "        # Two distinct real roots\n",
        "        root1 = (-b + math.sqrt(discriminant)) / (2*a)\n",
        "        root2 = (-b - math.sqrt(discriminant)) / (2*a)\n",
        "        return f\"The equation has two real roots: {root1} and {root2}\"\n",
        "    elif discriminant == 0:\n",
        "        # One real root\n",
        "        root = -b / (2*a)\n",
        "        return f\"The equation has one real root: {root}\"\n",
        "    else:\n",
        "        # No real roots, return complex roots\n",
        "        real_part = -b / (2*a)\n",
        "        imaginary_part = math.sqrt(-discriminant) / (2*a)\n",
        "        return f\"The equation has two complex roots: {real_part} + {imaginary_part}i and {real_part} - {imaginary_part}i\"\n",
        "\n",
        "# Input: coefficients a, b, and c\n",
        "a = float(input(\"Enter the coefficient a: \"))\n",
        "b = float(input(\"Enter the coefficient b: \"))\n",
        "c = float(input(\"Enter the coefficient c: \"))\n",
        "\n",
        "# Solve the quadratic equation\n",
        "result = solve_quadratic(a, b, c)\n",
        "\n",
        "# Output the result\n",
        "print(result)\n"
      ],
      "metadata": {
        "colab": {
          "base_uri": "https://localhost:8080/"
        },
        "id": "T6HzEjskkf3A",
        "outputId": "20483b20-16b7-4eb6-d1ac-cefb395962e0"
      },
      "execution_count": 2,
      "outputs": [
        {
          "output_type": "stream",
          "name": "stdout",
          "text": [
            "Enter the coefficient a: 2\n",
            "Enter the coefficient b: 3\n",
            "Enter the coefficient c: 4\n",
            "The equation has two complex roots: -0.75 + 1.1989578808281798i and -0.75 - 1.1989578808281798i\n"
          ]
        }
      ]
    },
    {
      "cell_type": "code",
      "source": [
        "def gcd(a, b):\n",
        "    while b != 0:\n",
        "        a, b = b, a % b\n",
        "    return a\n",
        "\n",
        "# Input: two numbers\n",
        "num1 = int(input(\"Enter the first number: \"))\n",
        "num2 = int(input(\"Enter the second number: \"))\n",
        "\n",
        "# Calculate the GCD\n",
        "result = gcd(num1, num2)\n",
        "\n",
        "# Output the result\n",
        "print(f\"The GCD of {num1} and {num2} is {result}\")\n"
      ],
      "metadata": {
        "colab": {
          "base_uri": "https://localhost:8080/"
        },
        "id": "Sd-GZLiDkvZ-",
        "outputId": "bccdb07a-8d2b-43a2-fbb2-37ab434219f0"
      },
      "execution_count": 3,
      "outputs": [
        {
          "output_type": "stream",
          "name": "stdout",
          "text": [
            "Enter the first number: 6\n",
            "Enter the second number: 10\n",
            "The GCD of 6 and 10 is 2\n"
          ]
        }
      ]
    },
    {
      "cell_type": "code",
      "source": [
        "import math\n",
        "\n",
        "# Calculate 5 to the power of 8\n",
        "power_result = 5 ** 8\n",
        "\n",
        "# Calculate the square root of 400\n",
        "sqrt_result = math.sqrt(400)\n",
        "\n",
        "# Calculate the exponent of 5 (e^5)\n",
        "exp_result = math.exp(5)\n",
        "\n",
        "# Calculate the logarithm of 625 with base 5\n",
        "log_result = math.log(625, 5)\n",
        "\n",
        "# Output the results\n",
        "print(f\"5 to the power of 8 is {power_result}\")\n",
        "print(f\"The square root of 400 is {sqrt_result}\")\n",
        "print(f\"The exponent of 5 (e^5) is {exp_result}\")\n",
        "print(f\"The logarithm of 625 with base 5 is {log_result}\")\n"
      ],
      "metadata": {
        "colab": {
          "base_uri": "https://localhost:8080/"
        },
        "id": "WadbFKTRk7Mg",
        "outputId": "87b09187-c71f-4ae3-c9f9-b2f03345ec72"
      },
      "execution_count": 4,
      "outputs": [
        {
          "output_type": "stream",
          "name": "stdout",
          "text": [
            "5 to the power of 8 is 390625\n",
            "The square root of 400 is 20.0\n",
            "The exponent of 5 (e^5) is 148.4131591025766\n",
            "The logarithm of 625 with base 5 is 4.0\n"
          ]
        }
      ]
    },
    {
      "cell_type": "code",
      "source": [
        "import math\n",
        "\n",
        "# Convert degrees to radians for trigonometric functions\n",
        "degrees_to_radians = math.radians(60)\n",
        "\n",
        "# Calculate sin of 60 degrees\n",
        "sin_60 = math.sin(degrees_to_radians)\n",
        "\n",
        "# Calculate cos of pi\n",
        "cos_pi = math.cos(math.pi)\n",
        "\n",
        "# Calculate sin(0.8660254037844386)\n",
        "sin_value = math.sin(0.8660254037844386)\n",
        "\n",
        "# Calculate tan of 90 degrees\n",
        "# Note: tan(90 degrees) is undefined, it approaches infinity\n",
        "tan_90 = \"undefined (approaches infinity)\" if math.isclose(math.cos(math.radians(90)), 0, abs_tol=1e-9) else math.tan(math.radians(90))\n",
        "\n",
        "# Output the results\n",
        "print(f\"sin(60 degrees) = {sin_60}\")\n",
        "print(f\"cos(pi) = {cos_pi}\")\n",
        "print(f\"sin(0.8660254037844386) = {sin_value}\")\n",
        "print(f\"tan(90 degrees) = {tan_90}\")\n"
      ],
      "metadata": {
        "colab": {
          "base_uri": "https://localhost:8080/"
        },
        "id": "7fCRf-BSlQii",
        "outputId": "9374906f-39e3-413d-d554-e3afb2890b2d"
      },
      "execution_count": 5,
      "outputs": [
        {
          "output_type": "stream",
          "name": "stdout",
          "text": [
            "sin(60 degrees) = 0.8660254037844386\n",
            "cos(pi) = -1.0\n",
            "sin(0.8660254037844386) = 0.7617599814162892\n",
            "tan(90 degrees) = undefined (approaches infinity)\n"
          ]
        }
      ]
    },
    {
      "cell_type": "code",
      "source": [
        "def sum(a, b):\n",
        "    return a + b\n",
        "\n",
        "# Input: two numbers\n",
        "num1 = float(input(\"Enter the first number: \"))\n",
        "num2 = float(input(\"Enter the second number: \"))\n",
        "\n",
        "# Call the sum function\n",
        "result = sum(num1, num2)\n",
        "\n",
        "# Output the result\n",
        "print(f\"The sum of {num1} and {num2} is {result}\")\n"
      ],
      "metadata": {
        "colab": {
          "base_uri": "https://localhost:8080/"
        },
        "id": "f8at-kUIlTi-",
        "outputId": "a105233b-9cfe-4fdb-8a8f-613e6363b5d4"
      },
      "execution_count": 6,
      "outputs": [
        {
          "output_type": "stream",
          "name": "stdout",
          "text": [
            "Enter the first number: 4\n",
            "Enter the second number: 6\n",
            "The sum of 4.0 and 6.0 is 10.0\n"
          ]
        }
      ]
    },
    {
      "cell_type": "code",
      "source": [
        "def reverse_string(s):\n",
        "    return s[::-1]\n",
        "\n",
        "# Input: a string\n",
        "input_string = input(\"Enter a string to reverse: \")\n",
        "\n",
        "# Reverse the string\n",
        "reversed_string = reverse_string(input_string)\n",
        "\n",
        "# Output the result\n",
        "print(f\"The reversed string is: {reversed_string}\")\n"
      ],
      "metadata": {
        "colab": {
          "base_uri": "https://localhost:8080/"
        },
        "id": "9Qn3gAYflfug",
        "outputId": "9561ab16-2818-4b72-f19c-a23be27915a3"
      },
      "execution_count": 7,
      "outputs": [
        {
          "output_type": "stream",
          "name": "stdout",
          "text": [
            "Enter a string to reverse: Hello\n",
            "The reversed string is: olleH\n"
          ]
        }
      ]
    },
    {
      "cell_type": "code",
      "source": [
        "def power(base, exponent):\n",
        "    # Base case: any number to the power of 0 is 1\n",
        "    if exponent == 0:\n",
        "        return 1\n",
        "    # Recursive case: multiply base by the result of power(base, exponent - 1)\n",
        "    else:\n",
        "        return base * power(base, exponent - 1)\n",
        "\n",
        "# Input: base and exponent\n",
        "base = float(input(\"Enter the base number: \"))\n",
        "exponent = int(input(\"Enter the exponent: \"))\n",
        "\n",
        "# Calculate the power using recursion\n",
        "result = power(base, exponent)\n",
        "\n",
        "# Output the result\n",
        "print(f\"{base} to the power of {exponent} is {result}\")\n"
      ],
      "metadata": {
        "colab": {
          "base_uri": "https://localhost:8080/"
        },
        "id": "mBdkHcNQlrB8",
        "outputId": "c8b07ed0-2c21-44aa-cb83-8e9ad56a37d5"
      },
      "execution_count": 8,
      "outputs": [
        {
          "output_type": "stream",
          "name": "stdout",
          "text": [
            "Enter the base number: 2\n",
            "Enter the exponent: 4\n",
            "2.0 to the power of 4 is 16.0\n"
          ]
        }
      ]
    },
    {
      "cell_type": "code",
      "source": [
        "def decimal_to_binary(n):\n",
        "    if n == 0:\n",
        "        return \"0\"\n",
        "    binary = \"\"\n",
        "    while n > 0:\n",
        "        binary = str(n % 2) + binary\n",
        "        n = n // 2\n",
        "    return binary\n",
        "\n",
        "# Input: a decimal number\n",
        "decimal_number = int(input(\"Enter a decimal number: \"))\n",
        "\n",
        "# Convert to binary\n",
        "binary_representation = decimal_to_binary(decimal_number)\n",
        "\n",
        "# Output the result\n",
        "print(f\"The binary representation of {decimal_number} is {binary_representation}\")\n"
      ],
      "metadata": {
        "colab": {
          "base_uri": "https://localhost:8080/"
        },
        "id": "4sNQ5jFYl4kr",
        "outputId": "446af604-ec9b-428f-c0eb-e1c5cd39274f"
      },
      "execution_count": 9,
      "outputs": [
        {
          "output_type": "stream",
          "name": "stdout",
          "text": [
            "Enter a decimal number: 3\n",
            "The binary representation of 3 is 11\n"
          ]
        }
      ]
    },
    {
      "cell_type": "code",
      "source": [
        "import math\n",
        "\n",
        "def is_krishnamurthy(number):\n",
        "    # Convert the number to a string to iterate over each digit\n",
        "    digits = str(number)\n",
        "    sum_of_factorials = 0\n",
        "\n",
        "    # Calculate the sum of the factorials of each digit\n",
        "    for digit in digits:\n",
        "        sum_of_factorials += math.factorial(int(digit))\n",
        "\n",
        "    # Check if the sum of factorials is equal to the original number\n",
        "    return sum_of_factorials == number\n",
        "\n",
        "# Input: a number\n",
        "num = int(input(\"Enter a number: \"))\n",
        "\n",
        "# Check if the number is a Krishnamurthy number\n",
        "if is_krishnamurthy(num):\n",
        "    print(f\"{num} is a Krishnamurthy number.\")\n",
        "else:\n",
        "    print(f\"{num} is not a Krishnamurthy number.\")\n"
      ],
      "metadata": {
        "colab": {
          "base_uri": "https://localhost:8080/"
        },
        "id": "cUHmJvJLmLhc",
        "outputId": "c87f8e2a-f7d7-4679-ece2-a7f36a753db9"
      },
      "execution_count": 10,
      "outputs": [
        {
          "output_type": "stream",
          "name": "stdout",
          "text": [
            "Enter a number: 153\n",
            "153 is not a Krishnamurthy number.\n"
          ]
        }
      ]
    },
    {
      "cell_type": "code",
      "source": [
        "def sum_of_digits(number):\n",
        "    # Convert the number to a string to iterate over each digit\n",
        "    digits = str(number)\n",
        "    total_sum = 0\n",
        "\n",
        "    # Calculate the sum of the digits\n",
        "    for digit in digits:\n",
        "        total_sum += int(digit)\n",
        "\n",
        "    return total_sum\n",
        "\n",
        "# Input: a number\n",
        "num = int(input(\"Enter a number: \"))\n",
        "\n",
        "# Calculate the sum of the digits\n",
        "result = sum_of_digits(num)\n",
        "\n",
        "# Output the result\n",
        "print(f\"The sum of the digits of {num} is {result}\")\n"
      ],
      "metadata": {
        "colab": {
          "base_uri": "https://localhost:8080/"
        },
        "id": "obcMVt-smPQq",
        "outputId": "ea6ddc8a-31f6-4f3b-fdb8-acce115993b4"
      },
      "execution_count": 11,
      "outputs": [
        {
          "output_type": "stream",
          "name": "stdout",
          "text": [
            "Enter a number: 123\n",
            "The sum of the digits of 123 is 6\n"
          ]
        }
      ]
    },
    {
      "cell_type": "code",
      "source": [
        "def print_multiplication_table(number, up_to=10):\n",
        "    print(f\"Multiplication table for {number}:\")\n",
        "    for i in range(1, up_to + 1):\n",
        "        print(f\"{number} x {i} = {number * i}\")\n",
        "\n",
        "# Input: a number\n",
        "num = int(input(\"Enter a number: \"))\n",
        "\n",
        "# Print the multiplication table for the number\n",
        "print_multiplication_table(num)\n"
      ],
      "metadata": {
        "colab": {
          "base_uri": "https://localhost:8080/"
        },
        "id": "8VsAA-NSmcFj",
        "outputId": "1bfcac33-0755-4439-aa4a-a639de4d1e73"
      },
      "execution_count": 12,
      "outputs": [
        {
          "output_type": "stream",
          "name": "stdout",
          "text": [
            "Enter a number: 5\n",
            "Multiplication table for 5:\n",
            "5 x 1 = 5\n",
            "5 x 2 = 10\n",
            "5 x 3 = 15\n",
            "5 x 4 = 20\n",
            "5 x 5 = 25\n",
            "5 x 6 = 30\n",
            "5 x 7 = 35\n",
            "5 x 8 = 40\n",
            "5 x 9 = 45\n",
            "5 x 10 = 50\n"
          ]
        }
      ]
    },
    {
      "cell_type": "code",
      "source": [
        "def geometric_sequence(start, ratio, terms):\n",
        "    sequence = []\n",
        "    current_term = start\n",
        "    for _ in range(terms):\n",
        "        sequence.append(current_term)\n",
        "        current_term *= ratio\n",
        "    return sequence\n",
        "\n",
        "# Starting term, common ratio, and number of terms\n",
        "start_term = 2\n",
        "common_ratio = 3\n",
        "num_terms = 6\n",
        "\n",
        "# Generate and print the geometric sequence\n",
        "sequence = geometric_sequence(start_term, common_ratio, num_terms)\n",
        "print(\"The first 6 terms of the geometric sequence are:\")\n",
        "for term in sequence:\n",
        "    print(term)\n"
      ],
      "metadata": {
        "colab": {
          "base_uri": "https://localhost:8080/"
        },
        "id": "pccbuUxnmezR",
        "outputId": "4ffc96c9-c1d5-46a6-a4d5-f19174a93072"
      },
      "execution_count": 13,
      "outputs": [
        {
          "output_type": "stream",
          "name": "stdout",
          "text": [
            "The first 6 terms of the geometric sequence are:\n",
            "2\n",
            "6\n",
            "18\n",
            "54\n",
            "162\n",
            "486\n"
          ]
        }
      ]
    },
    {
      "cell_type": "code",
      "source": [
        "import math\n",
        "\n",
        "def factorial_series(n):\n",
        "    series = []\n",
        "    for i in range(1, n + 1):\n",
        "        series.append(math.factorial(i))\n",
        "    return series\n",
        "\n",
        "# Input: number of terms\n",
        "num_terms = int(input(\"Enter the number of terms: \"))\n",
        "\n",
        "# Generate and print the factorial series\n",
        "series = factorial_series(num_terms)\n",
        "print(f\"The first {num_terms} terms of the series are:\")\n",
        "for term in series:\n",
        "    print(term)\n"
      ],
      "metadata": {
        "colab": {
          "base_uri": "https://localhost:8080/"
        },
        "id": "nfCXJpxGmmgV",
        "outputId": "f3c3cba0-8796-4611-8644-2a16f996bdf1"
      },
      "execution_count": 14,
      "outputs": [
        {
          "output_type": "stream",
          "name": "stdout",
          "text": [
            "Enter the number of terms: 5\n",
            "The first 5 terms of the series are:\n",
            "1\n",
            "2\n",
            "6\n",
            "24\n",
            "120\n"
          ]
        }
      ]
    },
    {
      "cell_type": "code",
      "source": [
        "def power(base, exponent):\n",
        "    result = 1\n",
        "    for _ in range(exponent):\n",
        "        result *= base\n",
        "    return result\n",
        "\n",
        "# Input: base number and exponent\n",
        "base = float(input(\"Enter the base number: \"))\n",
        "exponent = int(input(\"Enter the exponent: \"))\n",
        "\n",
        "# Calculate the power\n",
        "result = power(base, exponent)\n",
        "\n",
        "# Output the result\n",
        "print(f\"{base} to the power of {exponent} is {result}\")\n"
      ],
      "metadata": {
        "colab": {
          "base_uri": "https://localhost:8080/"
        },
        "id": "LznMgm4Xm3ez",
        "outputId": "af0f3d91-7e22-4ec4-a0ac-0076549af6cf"
      },
      "execution_count": 15,
      "outputs": [
        {
          "output_type": "stream",
          "name": "stdout",
          "text": [
            "Enter the base number: 4\n",
            "Enter the exponent: 5\n",
            "4.0 to the power of 5 is 1024.0\n"
          ]
        }
      ]
    },
    {
      "cell_type": "code",
      "source": [
        "def is_buzz_number(number):\n",
        "    # Check if the number is divisible by 7 or ends with the digit 7\n",
        "    return number % 7 == 0 or str(number).endswith('7')\n",
        "\n",
        "# Input: a number\n",
        "num = int(input(\"Enter a number: \"))\n",
        "\n",
        "# Check if the number is a Buzz number\n",
        "if is_buzz_number(num):\n",
        "    print(f\"{num} is a Buzz number.\")\n",
        "else:\n",
        "    print(f\"{num} is not a Buzz number.\")\n"
      ],
      "metadata": {
        "colab": {
          "base_uri": "https://localhost:8080/"
        },
        "id": "k1JkPmCknLdO",
        "outputId": "17f69ec5-e06e-41bb-d42d-a7a7cba001bd"
      },
      "execution_count": 16,
      "outputs": [
        {
          "output_type": "stream",
          "name": "stdout",
          "text": [
            "Enter a number: 137\n",
            "137 is a Buzz number.\n"
          ]
        }
      ]
    },
    {
      "cell_type": "code",
      "source": [
        "import math\n",
        "\n",
        "# Calculate the factorial of 12 using math.factorial\n",
        "factorial_12 = math.factorial(12)\n",
        "\n",
        "# Output the result\n",
        "print(f\"The factorial of 12 is {factorial_12}\")\n"
      ],
      "metadata": {
        "colab": {
          "base_uri": "https://localhost:8080/"
        },
        "id": "2NOgvQ_NnRM4",
        "outputId": "1bd1a140-d97f-4736-f419-a3c20fe61cde"
      },
      "execution_count": 17,
      "outputs": [
        {
          "output_type": "stream",
          "name": "stdout",
          "text": [
            "The factorial of 12 is 479001600\n"
          ]
        }
      ]
    },
    {
      "cell_type": "code",
      "source": [
        "def reverse_number(number):\n",
        "    reversed_num = 0\n",
        "    while number > 0:\n",
        "        # Get the last digit\n",
        "        last_digit = number % 10\n",
        "        # Append it to the reversed number\n",
        "        reversed_num = reversed_num * 10 + last_digit\n",
        "        # Remove the last digit from the original number\n",
        "        number = number // 10\n",
        "    return reversed_num\n",
        "\n",
        "# Input: a number\n",
        "num = int(input(\"Enter a number: \"))\n",
        "\n",
        "# Reverse the number\n",
        "reversed_num = reverse_number(num)\n",
        "\n",
        "# Output the result\n",
        "print(f\"The reversed number is {reversed_num}\")\n"
      ],
      "metadata": {
        "colab": {
          "base_uri": "https://localhost:8080/"
        },
        "id": "kmE34GTFnZnt",
        "outputId": "b88691c2-6979-4c57-a149-c315fac8365b"
      },
      "execution_count": 18,
      "outputs": [
        {
          "output_type": "stream",
          "name": "stdout",
          "text": [
            "Enter a number: 124\n",
            "The reversed number is 421\n"
          ]
        }
      ]
    },
    {
      "cell_type": "code",
      "source": [
        "def fibonacci_series(n):\n",
        "    # Initialize the first two terms of the Fibonacci series\n",
        "    series = []\n",
        "    a, b = 0, 1\n",
        "    while len(series) < n:\n",
        "        series.append(a)\n",
        "        a, b = b, a + b\n",
        "    return series\n",
        "\n",
        "# Input: number of terms\n",
        "num_terms = int(input(\"Enter the number of terms: \"))\n",
        "\n",
        "# Generate and print the Fibonacci series\n",
        "fib_series = fibonacci_series(num_terms)\n",
        "print(f\"The Fibonacci series with {num_terms} terms is:\")\n",
        "print(fib_series)\n"
      ],
      "metadata": {
        "colab": {
          "base_uri": "https://localhost:8080/"
        },
        "id": "gCLccaC4njRC",
        "outputId": "6391e005-96e0-438f-fa1b-07021ea48242"
      },
      "execution_count": 19,
      "outputs": [
        {
          "output_type": "stream",
          "name": "stdout",
          "text": [
            "Enter the number of terms: 5\n",
            "The Fibonacci series with 5 terms is:\n",
            "[0, 1, 1, 2, 3]\n"
          ]
        }
      ]
    },
    {
      "cell_type": "code",
      "source": [
        "import cmath\n",
        "\n",
        "def find_roots(a, b, c):\n",
        "    # Calculate the discriminant\n",
        "    discriminant = b**2 - 4*a*c\n",
        "\n",
        "    # Find two solutions using the quadratic formula\n",
        "    root1 = (-b + cmath.sqrt(discriminant)) / (2*a)\n",
        "    root2 = (-b - cmath.sqrt(discriminant)) / (2*a)\n",
        "\n",
        "    return root1, root2\n",
        "\n",
        "# Input: coefficients a, b, and c\n",
        "a = float(input(\"Enter the coefficient a: \"))\n",
        "b = float(input(\"Enter the coefficient b: \"))\n",
        "c = float(input(\"Enter the coefficient c: \"))\n",
        "\n",
        "# Calculate the roots of the quadratic equation\n",
        "root1, root2 = find_roots(a, b, c)\n",
        "\n",
        "# Output the results\n",
        "print(f\"The roots of the quadratic equation are {root1} and {root2}\")\n"
      ],
      "metadata": {
        "colab": {
          "base_uri": "https://localhost:8080/"
        },
        "id": "TrnhMmrHnsus",
        "outputId": "0c2932f6-61f1-4be5-d6ea-0749dd92f66e"
      },
      "execution_count": 20,
      "outputs": [
        {
          "output_type": "stream",
          "name": "stdout",
          "text": [
            "Enter the coefficient a: 3\n",
            "Enter the coefficient b: 4\n",
            "Enter the coefficient c: 5\n",
            "The roots of the quadratic equation are (-0.6666666666666666+1.1055415967851332j) and (-0.6666666666666666-1.1055415967851332j)\n"
          ]
        }
      ]
    },
    {
      "cell_type": "code",
      "source": [
        "def sum_of_natural_numbers(n):\n",
        "    # Calculate the sum using the formula n * (n + 1) / 2\n",
        "    return n * (n + 1) // 2\n",
        "\n",
        "# Input: the range up to which we want to calculate the sum\n",
        "limit = int(input(\"Enter the range up to which you want to calculate the sum: \"))\n",
        "\n",
        "# Calculate the sum of natural numbers up to the limit\n",
        "result = sum_of_natural_numbers(limit)\n",
        "\n",
        "# Output the result\n",
        "print(f\"The sum of natural numbers up to {limit} is {result}\")\n"
      ],
      "metadata": {
        "colab": {
          "base_uri": "https://localhost:8080/"
        },
        "id": "bpg1hp9poADB",
        "outputId": "8cc5718e-1d1e-40fa-da24-a26d53a5f5fb"
      },
      "execution_count": 21,
      "outputs": [
        {
          "output_type": "stream",
          "name": "stdout",
          "text": [
            "Enter the range up to which you want to calculate the sum: 5\n",
            "The sum of natural numbers up to 5 is 15\n"
          ]
        }
      ]
    },
    {
      "cell_type": "code",
      "source": [
        "def print_multiples_of_10(start, end):\n",
        "    # Ensure that the start is a multiple of 10\n",
        "    if start % 10 != 0:\n",
        "        start += 10 - (start % 10)\n",
        "\n",
        "    # Print all multiples of 10 from start to end\n",
        "    for number in range(start, end + 1, 10):\n",
        "        print(number)\n",
        "\n",
        "# Input: start and end of the interval\n",
        "start_interval = int(input(\"Enter the start of the interval: \"))\n",
        "end_interval = int(input(\"Enter the end of the interval: \"))\n",
        "\n",
        "# Print multiples of 10 within the interval\n",
        "print(f\"Multiples of 10 between {start_interval} and {end_interval} are:\")\n",
        "print_multiples_of_10(start_interval, end_interval)\n"
      ],
      "metadata": {
        "colab": {
          "base_uri": "https://localhost:8080/"
        },
        "id": "EJz8_sjBoJMz",
        "outputId": "daedf54c-11a2-463e-9616-4984c20e3caf"
      },
      "execution_count": 24,
      "outputs": [
        {
          "output_type": "stream",
          "name": "stdout",
          "text": [
            "Enter the start of the interval: 2\n",
            "Enter the end of the interval: 20\n",
            "Multiples of 10 between 2 and 20 are:\n",
            "10\n",
            "20\n"
          ]
        }
      ]
    },
    {
      "cell_type": "code",
      "source": [
        "def hcf(a, b):\n",
        "    # Implementing the Euclidean algorithm\n",
        "    while b != 0:\n",
        "        a, b = b, a % b\n",
        "    return a\n",
        "\n",
        "# Input: two numbers\n",
        "num1 = int(input(\"Enter the first number: \"))\n",
        "num2 = int(input(\"Enter the second number: \"))\n",
        "\n",
        "# Calculate the HCF\n",
        "result = hcf(num1, num2)\n",
        "\n",
        "# Output the result\n",
        "print(f\"The HCF of {num1} and {num2} is {result}\")\n"
      ],
      "metadata": {
        "colab": {
          "base_uri": "https://localhost:8080/"
        },
        "id": "XRYANQYcoi98",
        "outputId": "9208a850-a4a9-4104-cf11-813e0806e846"
      },
      "execution_count": 25,
      "outputs": [
        {
          "output_type": "stream",
          "name": "stdout",
          "text": [
            "Enter the first number: 5\n",
            "Enter the second number: 8\n",
            "The HCF of 5 and 8 is 1\n"
          ]
        }
      ]
    },
    {
      "cell_type": "code",
      "source": [
        "def hcf(a, b):\n",
        "    # Implementing the Euclidean algorithm to find HCF\n",
        "    while b != 0:\n",
        "        a, b = b, a % b\n",
        "    return a\n",
        "\n",
        "def lcm(a, b):\n",
        "    # Calculate LCM using the relationship between LCM and HCF\n",
        "    return abs(a * b) // hcf(a, b)\n",
        "\n",
        "# Input: two numbers\n",
        "num1 = int(input(\"Enter the first number: \"))\n",
        "num2 = int(input(\"Enter the second number: \"))\n",
        "\n",
        "# Calculate the LCM\n",
        "result = lcm(num1, num2)\n",
        "\n",
        "# Output the result\n",
        "print(f\"The LCM of {num1} and {num2} is {result}\")\n"
      ],
      "metadata": {
        "colab": {
          "base_uri": "https://localhost:8080/"
        },
        "id": "s08Tgc7Gou9F",
        "outputId": "f6d6433b-2398-4aba-f982-2abfb05559bb"
      },
      "execution_count": 26,
      "outputs": [
        {
          "output_type": "stream",
          "name": "stdout",
          "text": [
            "Enter the first number: 10\n",
            "Enter the second number: 20\n",
            "The LCM of 10 and 20 is 20\n"
          ]
        }
      ]
    },
    {
      "cell_type": "code",
      "source": [
        "def count_digits(number):\n",
        "    # Convert the number to a string and count its length\n",
        "    return len(str(abs(number)))\n",
        "\n",
        "# Input: an integer\n",
        "num = int(input(\"Enter an integer: \"))\n",
        "\n",
        "# Count the number of digits\n",
        "digit_count = count_digits(num)\n",
        "\n",
        "# Output the result\n",
        "print(f\"The number of digits in {num} is {digit_count}\")\n"
      ],
      "metadata": {
        "colab": {
          "base_uri": "https://localhost:8080/"
        },
        "id": "vYhCcWpQo8Rz",
        "outputId": "3e1e0074-a1eb-4449-9fad-9f6eb34c592f"
      },
      "execution_count": 27,
      "outputs": [
        {
          "output_type": "stream",
          "name": "stdout",
          "text": [
            "Enter an integer: 12358\n",
            "The number of digits in 12358 is 5\n"
          ]
        }
      ]
    }
  ]
}