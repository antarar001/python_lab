{
  "nbformat": 4,
  "nbformat_minor": 0,
  "metadata": {
    "colab": {
      "provenance": []
    },
    "kernelspec": {
      "name": "python3",
      "display_name": "Python 3"
    },
    "language_info": {
      "name": "python"
    }
  },
  "cells": [
    {
      "cell_type": "code",
      "execution_count": 1,
      "metadata": {
        "colab": {
          "base_uri": "https://localhost:8080/"
        },
        "id": "q9LnTUzOUTUO",
        "outputId": "01ccdb50-158f-4916-9f9e-dda63ebd83e1"
      },
      "outputs": [
        {
          "output_type": "stream",
          "name": "stdout",
          "text": [
            "Length of the string: 73\n",
            "The substring \"country\" is found in the string.\n",
            "Word occurrences in the string:\n",
            "'india': 2\n",
            "'is': 2\n",
            "'my': 2\n",
            "'motherland': 1\n",
            "'i': 1\n",
            "'love': 1\n",
            "'country': 1\n",
            "'capital': 1\n",
            "'of': 1\n",
            "'new': 1\n",
            "'delhi': 1\n"
          ]
        }
      ],
      "source": [
        "# Function to calculate the length of the string\n",
        "def calculate_length(s):\n",
        "    return len(s)\n",
        "\n",
        "# Function to find the substring \"country\"\n",
        "def find_substring(s, substring=\"country\"):\n",
        "    if substring in s:\n",
        "        return f'The substring \"{substring}\" is found in the string.'\n",
        "    else:\n",
        "        return f'The substring \"{substring}\" is not found in the string.'\n",
        "\n",
        "# Function to count the occurrences of each word in the string\n",
        "def count_word_occurrences(s):\n",
        "    words = s.split()  # Split the string into words\n",
        "    word_count = {}\n",
        "\n",
        "    for word in words:\n",
        "        word = word.strip(\".\").lower()  # Remove periods and convert to lowercase\n",
        "        if word in word_count:\n",
        "            word_count[word] += 1\n",
        "        else:\n",
        "            word_count[word] = 1\n",
        "\n",
        "    return word_count\n",
        "\n",
        "# Main program\n",
        "input_string = \"India is my motherland. I love my country. Capital of India is New Delhi.\"\n",
        "\n",
        "# Calculate the length of the string\n",
        "length_of_string = calculate_length(input_string)\n",
        "print(f\"Length of the string: {length_of_string}\")\n",
        "\n",
        "# Find the substring \"country\"\n",
        "substring_result = find_substring(input_string, \"country\")\n",
        "print(substring_result)\n",
        "\n",
        "# Count the occurrences of each word\n",
        "word_occurrences = count_word_occurrences(input_string)\n",
        "print(\"Word occurrences in the string:\")\n",
        "for word, count in word_occurrences.items():\n",
        "    print(f\"'{word}': {count}\")\n"
      ]
    },
    {
      "cell_type": "code",
      "source": [
        "# Function to sort words alphabetically and return them as a comma-separated string\n",
        "def sort_words_alphabetically(words):\n",
        "    # Split the input string into a list of words\n",
        "    word_list = words.split(',')\n",
        "\n",
        "    # Sort the list of words alphabetically\n",
        "    word_list.sort()\n",
        "\n",
        "    # Join the sorted list back into a comma-separated string\n",
        "    sorted_words = ','.join(word_list)\n",
        "\n",
        "    return sorted_words\n",
        "\n",
        "# Main program\n",
        "input_string = input(\"Enter a comma-separated sequence of words: \")\n",
        "\n",
        "# Sort the words and print the result\n",
        "sorted_result = sort_words_alphabetically(input_string)\n",
        "print(\"Sorted words in a comma-separated sequence:\")\n",
        "print(sorted_result)\n"
      ],
      "metadata": {
        "colab": {
          "base_uri": "https://localhost:8080/"
        },
        "id": "_1Ae3uODa4SA",
        "outputId": "052f495c-fcfc-49ca-f7b6-02a87b79e43d"
      },
      "execution_count": 3,
      "outputs": [
        {
          "output_type": "stream",
          "name": "stdout",
          "text": [
            "Enter a comma-separated sequence of words: without,hello,bag,world\n",
            "Sorted words in a comma-separated sequence:\n",
            "bag,hello,without,world\n"
          ]
        }
      ]
    },
    {
      "cell_type": "code",
      "source": [
        "# Function to capitalize all characters in each line\n",
        "def capitalize_lines(lines):\n",
        "    return [line.upper() for line in lines]\n",
        "\n",
        "# Main program\n",
        "input_lines = []\n",
        "\n",
        "print(\"Enter lines of text (enter an empty line to stop):\")\n",
        "\n",
        "while True:\n",
        "    line = input()\n",
        "    if line:\n",
        "        input_lines.append(line)\n",
        "    else:\n",
        "        break\n",
        "\n",
        "# Capitalize each line and print the results\n",
        "capitalized_lines = capitalize_lines(input_lines)\n",
        "\n",
        "print(\"\\nLines after capitalization:\")\n",
        "for line in capitalized_lines:\n",
        "    print(line)\n"
      ],
      "metadata": {
        "colab": {
          "base_uri": "https://localhost:8080/"
        },
        "id": "Ilgr8pzFdnqQ",
        "outputId": "de880674-fb22-41aa-8f99-d60b1dab7d27"
      },
      "execution_count": 4,
      "outputs": [
        {
          "output_type": "stream",
          "name": "stdout",
          "text": [
            "Enter lines of text (enter an empty line to stop):\n",
            "hello world\n",
            "Practice makes perfect\n",
            "\n",
            "\n",
            "Lines after capitalization:\n",
            "HELLO WORLD\n",
            "PRACTICE MAKES PERFECT\n"
          ]
        }
      ]
    },
    {
      "cell_type": "code",
      "source": [
        "# Function to remove duplicates and sort words alphanumerically\n",
        "def remove_duplicates_and_sort(words):\n",
        "    # Split the input string into words\n",
        "    word_list = words.split()\n",
        "\n",
        "    # Remove duplicates by converting the list to a set\n",
        "    unique_words = set(word_list)\n",
        "\n",
        "    # Sort the unique words alphanumerically\n",
        "    sorted_words = sorted(unique_words)\n",
        "\n",
        "    # Join the sorted words back into a single string\n",
        "    result = ' '.join(sorted_words)\n",
        "\n",
        "    return result\n",
        "\n",
        "# Main program\n",
        "input_string = input(\"Enter a sequence of whitespace-separated words: \")\n",
        "\n",
        "# Process the input and print the result\n",
        "output_string = remove_duplicates_and_sort(input_string)\n",
        "print(\"Words after removing duplicates and sorting:\")\n",
        "print(output_string)\n"
      ],
      "metadata": {
        "colab": {
          "base_uri": "https://localhost:8080/"
        },
        "id": "o_8jKT6FgubP",
        "outputId": "b1f81c8a-0827-4ce2-883e-422dac3ca598"
      },
      "execution_count": 5,
      "outputs": [
        {
          "output_type": "stream",
          "name": "stdout",
          "text": [
            "Enter a sequence of whitespace-separated words: hello world and practice makes perfect and hello world again\n",
            "Words after removing duplicates and sorting:\n",
            "again and hello makes perfect practice world\n"
          ]
        }
      ]
    },
    {
      "cell_type": "code",
      "source": [
        "# Function to calculate the number of letters and digits in a sentence\n",
        "def count_letters_and_digits(sentence):\n",
        "    letters = 0\n",
        "    digits = 0\n",
        "\n",
        "    for char in sentence:\n",
        "        if char.isalpha():  # Check if the character is a letter\n",
        "            letters += 1\n",
        "        elif char.isdigit():  # Check if the character is a digit\n",
        "            digits += 1\n",
        "\n",
        "    return letters, digits\n",
        "\n",
        "# Main program\n",
        "input_sentence = input(\"Enter a sentence: \")\n",
        "\n",
        "# Calculate the number of letters and digits\n",
        "letters_count, digits_count = count_letters_and_digits(input_sentence)\n",
        "\n",
        "# Print the results\n",
        "print(f\"LETTERS {letters_count}\")\n",
        "print(f\"DIGITS {digits_count}\")\n"
      ],
      "metadata": {
        "colab": {
          "base_uri": "https://localhost:8080/"
        },
        "id": "bDxRMe7CigKw",
        "outputId": "0613dd5f-739d-452f-8253-172e516eccce"
      },
      "execution_count": 6,
      "outputs": [
        {
          "output_type": "stream",
          "name": "stdout",
          "text": [
            "Enter a sentence: hello world! 123\n",
            "LETTERS 10\n",
            "DIGITS 3\n"
          ]
        }
      ]
    },
    {
      "cell_type": "code",
      "source": [
        "# Function to check if the input string is \"yes\", \"YES\", or \"Yes\"\n",
        "def check_string(input_str):\n",
        "    if input_str in [\"yes\", \"YES\", \"Yes\"]:\n",
        "        return \"Yes\"\n",
        "    else:\n",
        "        return \"No\"\n",
        "\n",
        "# Main program\n",
        "input_string = input(\"Enter a string: \")\n",
        "\n",
        "# Check the string and print the result\n",
        "result = check_string(input_string)\n",
        "print(result)\n"
      ],
      "metadata": {
        "colab": {
          "base_uri": "https://localhost:8080/"
        },
        "id": "WI9n7J0ynT4d",
        "outputId": "74f07a51-795c-4a68-b1ad-439ad7658f6e"
      },
      "execution_count": 7,
      "outputs": [
        {
          "output_type": "stream",
          "name": "stdout",
          "text": [
            "Enter a string: yes\n",
            "Yes\n"
          ]
        }
      ]
    },
    {
      "cell_type": "code",
      "source": [
        "# Function to filter and return words composed of digits only\n",
        "def filter_digit_words(words):\n",
        "    # Split the input string into a list of words\n",
        "    word_list = words.split()\n",
        "\n",
        "    # Filter the list to include only words composed entirely of digits\n",
        "    digit_words = [word for word in word_list if word.isdigit()]\n",
        "\n",
        "    return digit_words\n",
        "\n",
        "# Main program\n",
        "input_string = input(\"Enter a sequence of words separated by whitespace: \")\n",
        "\n",
        "# Get the words composed of digits only\n",
        "digit_words = filter_digit_words(input_string)\n",
        "\n",
        "# Print the result\n",
        "print(digit_words)\n"
      ],
      "metadata": {
        "colab": {
          "base_uri": "https://localhost:8080/"
        },
        "id": "NnERuV6Fo_6T",
        "outputId": "20e45ec3-daff-4e5a-c0bd-dc93a2ca3d4b"
      },
      "execution_count": 8,
      "outputs": [
        {
          "output_type": "stream",
          "name": "stdout",
          "text": [
            "Enter a sequence of words separated by whitespace: 2 cats and 3 dogs.\n",
            "['2', '3']\n"
          ]
        }
      ]
    },
    {
      "cell_type": "code",
      "source": [
        "# Function to count occurrences of each character in the string\n",
        "def count_characters(input_str):\n",
        "    char_count = {}\n",
        "\n",
        "    for char in input_str:\n",
        "        if char in char_count:\n",
        "            char_count[char] += 1\n",
        "        else:\n",
        "            char_count[char] = 1\n",
        "\n",
        "    return char_count\n",
        "\n",
        "# Main program\n",
        "input_string = input(\"Enter a string: \")\n",
        "\n",
        "# Count the characters in the string\n",
        "character_counts = count_characters(input_string)\n",
        "\n",
        "# Print the results\n",
        "for char, count in character_counts.items():\n",
        "    print(f\"{char},{count}\")\n"
      ],
      "metadata": {
        "colab": {
          "base_uri": "https://localhost:8080/"
        },
        "id": "ei4o_oRBqSpd",
        "outputId": "00edc7b7-69f7-49ef-ce5b-66b5015e5ac8"
      },
      "execution_count": 11,
      "outputs": [
        {
          "output_type": "stream",
          "name": "stdout",
          "text": [
            "Enter a string: abcdefgabc\n",
            "a,2\n",
            "b,2\n",
            "c,2\n",
            "d,1\n",
            "e,1\n",
            "f,1\n",
            "g,1\n"
          ]
        }
      ]
    },
    {
      "cell_type": "code",
      "source": [
        "def reverse_string(s):\n",
        "    return s[::-1]\n",
        "def is_palindrome(s):\n",
        "    return s == s[::-1]\n",
        "def ends_with(s, substring):\n",
        "    return s.endswith(substring)\n",
        "def capitalize_words(s):\n",
        "    return s.title()\n",
        "def are_anagrams(s1, s2):\n",
        "    return sorted(s1) == sorted(s2)\n",
        "def remove_vowels(s):\n",
        "    vowels = \"aeiouAEIOU\"\n",
        "    return ''.join([char for char in s if char not in vowels])\n",
        "def length_of_longest_word(s):\n",
        "    words = s.split()\n",
        "    longest_word = max(words, key=len)\n",
        "    return len(longest_word)\n",
        "input_string = input(\"Enter a string: \")\n",
        "reversed_string = reverse_string(input_string)\n",
        "print(f\"Reversed String: {reversed_string}\")\n",
        "palindrome_check = is_palindrome(input_string)\n",
        "print(f\"Is Palindrome: {palindrome_check}\")\n",
        "substring = input(\"Enter the substring to check if the string ends with it: \")\n",
        "ends_with_check = ends_with(input_string, substring)\n",
        "print(f\"Ends with '{substring}': {ends_with_check}\")\n",
        "capitalized_string = capitalize_words(input_string)\n",
        "print(f\"Capitalized: {capitalized_string}\")\n",
        "another_string = input(\"Enter another string to check if it is an anagram: \")\n",
        "anagram_check = are_anagrams(input_string.replace(\" \", \"\"), another_string.replace(\" \", \"\"))\n",
        "print(f\"Is Anagram: {anagram_check}\")\n",
        "no_vowels_string = remove_vowels(input_string)\n",
        "print(f\"String without vowels: {no_vowels_string}\")\n",
        "longest_word_length = length_of_longest_word(input_string)\n",
        "print(f\"Length of the longest word: {longest_word_length}\")\n"
      ],
      "metadata": {
        "colab": {
          "base_uri": "https://localhost:8080/"
        },
        "id": "h9PXjsOVrpt9",
        "outputId": "3b54766c-109c-45e3-b0f2-0daa953c5755"
      },
      "execution_count": 12,
      "outputs": [
        {
          "output_type": "stream",
          "name": "stdout",
          "text": [
            "Enter a string: madam\n",
            "Reversed String: madam\n",
            "Is Palindrome: True\n",
            "Enter the substring to check if the string ends with it: am\n",
            "Ends with 'am': True\n",
            "Capitalized: Madam\n",
            "Enter another string to check if it is an anagram: damam\n",
            "Is Anagram: True\n",
            "String without vowels: mdm\n",
            "Length of the longest word: 5\n"
          ]
        }
      ]
    }
  ]
}